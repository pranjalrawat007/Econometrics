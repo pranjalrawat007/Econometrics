{
 "cells": [
  {
   "cell_type": "markdown",
   "id": "5bb3e806",
   "metadata": {},
   "source": [
    "Frequentism (FQ) vs Bayesianism (BY): \n",
    "\n",
    "1. In FQ the data you have is one particular sample out of many that could have been. You do not have access to the population, but only a random sample from it. You describe the population by a distribution e.g. Poisson with fixed parameters (lambda). There is one true lambda, but we do not know it. We only get an estimate from a single random sample (lambda_hat). Now given any lambda, and the sample size, there is a sampling distribution for lambda_hat. From this we have recieved one draw. Now, we want to make inferences about the true lambda using this lambda_hat realization. First, we set a Null, an iron-man that we seek to knock down to prove to the scientific community our result e.g. lambda = 0. Given this Null, and sample size N, we have a sampling distribution for lamda_hat (centered around 0). Now we look at our estimate lambda_hat, and see how far is this from lambda? If it is very far, then lambda=0 can only be true in a very very rare situation. Let set a significance level of 0.05% or 1 in 20. We now can easily find lambda_upper and lambda_lower such that 95% draws of lambda_hat given lambda=0 fall within it. This 'confidence interval' means that in 95% of the worlds possible / samples possible, lambda_hat will fall in (lambda_upper,lambda_lower). If we had taken a lower significance e.g. 0.1 or 1 in 10, this range would have been narrower. If we had taken a higher significance e.g. 0.01 this range would be wider. Then we see if the lambda_hat we obtained falls in it. If it does, then we say that given lambda=0, our lambda_hat has fallen in a range of values that we would expect a hypothetical lambda_hat to fall in 95% of the times. If it does not, then we say that given lambda=0, our lambda_hat has fallen beyond a range of values that we would expect a hypothetical lambda_hat to fall in 95% of the times. It doesn't tell us if lambda=0 or not, it tells us whether our lambda_hat fell inside the likely range or not. It makes a reference to hypothetical samples to construct an interval to evaluate the current estimate. There are two types of errors possible - type 1 is false positive i.e how many times we would reject a true null (alpha/level of significance) and type 2 is false negative (beta) i.e how many times we would fail to reject a false null against a true alternative (we need to specify an alternative). Smaller effect sizes e.g. lambda = 0.01 may get rejected against lambda = 0, because of low power (1-beta) of the test. Alpha is usually chosen, but beta rises as alpha falls, samples size reduces, effect size is small (indistiguishable alternative).\n",
    "\n",
    "2. "
   ]
  },
  {
   "cell_type": "markdown",
   "id": "175771f0",
   "metadata": {},
   "source": [
    "### Frequentism"
   ]
  },
  {
   "cell_type": "code",
   "execution_count": 58,
   "id": "8ec472a8",
   "metadata": {},
   "outputs": [
    {
     "name": "stdout",
     "output_type": "stream",
     "text": [
      "Random Sample: 3\n"
     ]
    }
   ],
   "source": [
    "from scipy.stats import hypergeom\n",
    "# We draw n items from a finite population of size N with r successes. Then X is the number of success in sample drawn.\n",
    "\n",
    "# key parameter\n",
    "phi = 0.5\n",
    "\n",
    "# Parameters for the hypergeometric distribution\n",
    "N = 16\n",
    "r = int(N * phi)\n",
    "n = 4\n",
    "\n",
    "# Draw a sample from the hypergeometric distribution\n",
    "sample = hypergeom.rvs(N, r, n)\n",
    "print(\"Random Sample:\", sample)"
   ]
  },
  {
   "cell_type": "code",
   "execution_count": 59,
   "id": "f15f53f0",
   "metadata": {},
   "outputs": [
    {
     "name": "stdout",
     "output_type": "stream",
     "text": [
      "PMF of the value: 0 is 0.038461538461538464\n",
      "PMF of the value: 1 is 0.24615384615384617\n",
      "PMF of the value: 2 is 0.43076923076923074\n",
      "PMF of the value: 3 is 0.24615384615384614\n",
      "PMF of the value: 4 is 0.038461538461538464\n",
      "PMF of the value: 5 is 0.0\n",
      "PMF of the value: 6 is 0.0\n"
     ]
    }
   ],
   "source": [
    "# Calculate the probability mass function (PMF) of the hypergeometric distribution\n",
    "for value in range(0,7):\n",
    "    pmf = hypergeom.pmf(value, N, r, n)\n",
    "    print(\"PMF of the value:\", value,\"is\", pmf)"
   ]
  },
  {
   "cell_type": "code",
   "execution_count": 60,
   "id": "8d63d798",
   "metadata": {},
   "outputs": [
    {
     "name": "stdout",
     "output_type": "stream",
     "text": [
      "sample we have: [1, 1, 0, 1], estimate of phi 0.75\n"
     ]
    }
   ],
   "source": [
    "# sample that we have:\n",
    "sample = [1,1,0,1]\n",
    "phi_est = sum(sample)/len(sample)\n",
    "print(f'sample we have: {sample}, estimate of phi {phi_est}')"
   ]
  },
  {
   "cell_type": "code",
   "execution_count": 61,
   "id": "c741781b",
   "metadata": {},
   "outputs": [
    {
     "name": "stdout",
     "output_type": "stream",
     "text": [
      "sample we have: [0, 1, 1, 0, 2, 1, 1, 3, 1, 0, 1, 0, 2, 1, 1, 2, 0, 0, 0, 0, 2, 0, 1, 1, 3, 1, 1, 2, 1, 1, 3, 1, 2, 1, 1, 1, 2, 0, 0, 1, 2, 1, 1, 1, 1, 0, 1, 1, 2, 2, 1, 0, 1, 2, 2, 1, 1, 0, 1, 1, 0, 2, 1, 0, 0, 1, 1, 1, 1, 0, 0, 0, 0, 1, 1, 2, 1, 0, 0, 1, 1, 1, 1, 2, 1, 1, 1, 0, 1, 0, 0, 0, 0, 0, 3, 2, 2, 1, 1, 1, 2, 0, 1, 1, 2, 0, 1, 1, 2, 2, 0, 1, 1, 2, 1, 2, 1, 1, 1, 0, 2, 1, 1, 2, 1, 1, 0, 1, 2, 1, 2, 1, 1, 0, 3, 1, 2, 2, 1, 1, 2, 1, 1, 1, 1, 1, 0, 0, 1, 0, 0, 0, 2, 1, 1, 2, 1, 0, 0, 2, 1, 2, 1, 1, 1, 2, 0, 1, 1, 1, 1, 1, 0, 0, 0, 1, 0, 0, 1, 0, 1, 1, 0, 1, 2, 1, 0, 0, 0, 2, 0, 1, 2, 1, 0, 0, 2, 0, 0, 1, 3, 0, 0, 0, 1, 0, 0, 2, 2, 1, 0, 1, 1, 1, 1, 1, 0, 1, 0, 1, 1, 0, 2, 2, 1, 1, 3, 0, 0, 2, 0, 0, 1, 0, 1, 1, 0, 1, 2, 1, 1, 1, 2, 1, 0, 0, 1, 1, 1, 1, 2, 1, 2, 3, 1, 1, 1, 1, 1, 1, 0, 1, 1, 1, 0, 0, 2, 1, 2, 2, 1, 1, 1, 0, 1, 1, 2, 1, 0, 1, 0, 2, 1, 2, 1, 3, 1, 1, 0, 1, 2, 2, 1, 1, 0, 1, 1, 1, 1, 2, 0, 1, 0, 0, 0, 3, 1, 1, 1, 2, 1, 1, 1, 1, 0, 2, 1, 2, 1, 2, 0, 0, 1, 1, 1, 0, 1, 0, 1, 2, 1, 0, 1, 0, 1, 0, 1, 2, 2, 1, 1, 0, 0, 0, 1, 1, 1, 0, 1, 2, 1, 0, 2, 2, 2, 1, 0, 0, 0, 1, 0, 1, 0, 1, 1, 0, 1, 3, 0, 0, 2, 1, 2, 2, 1, 1, 1, 1, 0, 1, 2, 1, 0, 0, 0, 1, 1, 1, 1, 1, 1, 1, 0, 1, 0, 0, 1, 1, 2, 1, 0, 1, 2, 1, 1, 1, 1, 0, 1, 1, 1, 0, 2, 0, 1, 1, 1, 2, 2, 2, 2, 0, 1, 2, 0, 0, 0, 0, 0, 2, 2, 0, 1, 2, 2, 1, 0, 2, 1, 1, 1, 3, 1, 1, 0, 1, 1, 2, 2, 2, 1, 3, 1, 1, 3, 2, 0, 1, 1, 0, 1, 1, 1, 2, 1, 1, 0, 2, 1, 1, 0, 2, 0, 2, 1, 0, 2, 1, 1, 1, 1, 3, 1, 0, 1, 0, 0, 1, 1, 2, 0, 1, 0, 1, 2, 1, 0, 3, 1, 1, 0, 1, 1, 0, 1, 0, 1, 2, 1, 1, 1, 0, 0, 0, 2, 1, 1, 0, 1, 0, 1, 2, 1, 0, 1, 2, 0, 1, 1, 0, 0, 1, 2, 0, 1, 1, 1, 0, 0, 2, 1, 2, 1, 2, 2, 1, 2, 2, 1, 0, 0, 2, 1, 1, 1, 2, 1, 2, 2, 0, 1, 0, 1, 1, 1, 0, 2, 0, 1, 1, 0, 1, 2, 2, 1, 2, 0, 1, 1, 0, 0, 1, 0, 0, 1, 1, 1, 1, 0, 0, 0, 2, 0, 1, 1, 2, 1, 0, 1, 1, 0, 0, 2, 1, 1, 0, 1, 1, 1, 1, 1, 1, 1, 1, 1, 0, 0, 1, 1, 1, 1, 1, 2, 2, 1, 2, 1, 0, 0, 0, 2, 1, 0, 1, 0, 1, 2, 0, 0, 2, 2, 1, 0, 2, 2, 1, 2, 1, 0, 1, 1, 0, 0, 2, 1, 0, 1, 0, 2, 1, 0, 1, 0, 1, 2, 1, 1, 1, 2, 0, 0, 2, 2, 1, 1, 2, 1, 1, 1, 1, 2, 0, 1, 1, 0, 2, 1, 0, 2, 2, 1, 1, 2, 0, 2, 1, 2, 3, 1, 1, 0, 1, 1, 1, 1, 2, 1, 2, 0, 0, 2, 1, 2, 1, 1, 0, 1, 1, 0, 3, 1, 1, 1, 0, 1, 0, 1, 0, 0, 1, 1, 0, 2, 1, 2, 0, 0, 1, 1, 1, 2, 1, 0, 1, 2, 1, 1, 0, 1, 0, 1, 3, 2, 1, 1, 1, 1, 1, 0, 1, 1, 1, 1, 1, 1, 1, 0, 1, 2, 2, 2, 1, 2, 1, 1, 1, 1, 1, 1, 0, 2, 0, 1, 0, 0, 1, 0, 1, 0, 1, 1, 1, 3, 2, 2, 0, 1, 1, 2, 2, 0, 0, 1, 2, 0, 2, 0, 0, 1, 1, 1, 2, 2, 1, 1, 2, 0, 0, 0, 0, 2, 2, 1, 2, 0, 0, 2, 1, 1, 1, 1, 1, 1, 0, 1, 2, 1, 1, 1, 2, 1, 0, 1, 0, 0, 1, 2, 1, 2, 0, 1, 1, 2, 0, 2, 1, 1, 2, 2, 1, 2, 0, 1, 0, 0, 1, 0, 0, 0, 2, 1, 2, 0, 0, 1, 0, 1, 1, 2, 0, 0, 2, 0, 0, 1, 1, 0, 1, 0, 1, 1, 1, 1, 1, 2, 1, 1, 0, 0, 0, 1, 1, 1, 2, 1, 1, 0, 0, 1, 2, 1, 0, 2, 1, 0, 1, 1, 1, 1, 1, 1, 0, 0, 1, 1, 2, 2, 0, 1, 0, 2, 0, 1, 0, 0, 2, 1, 2, 1, 1, 0, 0, 2, 1, 0, 2, 1, 0, 1, 1, 2, 0, 1, 1, 2, 1, 1, 1, 1, 2, 0, 0, 1, 0, 1, 2, 2, 1, 1, 2, 1, 1, 1, 1, 1, 1, 1, 2, 2, 0, 1, 0, 2, 1, 1, 0, 1, 1, 0, 1, 0, 2, 1, 0, 1, 2, 0, 1, 1, 1]\n"
     ]
    }
   ],
   "source": [
    "# Testing the null: phi = 0.25\n",
    "\n",
    "# let true value of parameter (null)\n",
    "phi = 0.25\n",
    "\n",
    "# Parameters for the hypergeometric distribution\n",
    "N = 16\n",
    "r = int(N * phi)\n",
    "n = 4\n",
    "\n",
    "# Draw 1000 samples from the hypergeometric distribution\n",
    "samples = [hypergeom.rvs(N, r, n) for i in range(1000)]\n",
    "\n",
    "print(f'sample we have: {samples}')"
   ]
  },
  {
   "cell_type": "code",
   "execution_count": 65,
   "id": "86ea90df",
   "metadata": {},
   "outputs": [
    {
     "data": {
      "image/png": "[encoded data removed]",
      "text/plain": [
       "<Figure size 640x480 with 1 Axes>"
      ]
     },
     "metadata": {},
     "output_type": "display_data"
    }
   ],
   "source": [
    "import matplotlib.pyplot as plt\n",
    "plt.hist(samples, bins=4, edgecolor='black')\n",
    "plt.xlabel('Value')\n",
    "plt.ylabel('Frequency')\n",
    "plt.title('Histogram')\n",
    "plt.show()"
   ]
  },
  {
   "cell_type": "code",
   "execution_count": 66,
   "id": "1d6a0935",
   "metadata": {},
   "outputs": [
    {
     "name": "stdout",
     "output_type": "stream",
     "text": [
      "PMF of the value: 0 is 1.0\n",
      "PMF of the value: 1 is 0.7280219780219781\n",
      "PMF of the value: 2 is 0.24450549450549441\n",
      "PMF of the value: 3 is 0.02692307692307694\n",
      "PMF of the value: 4 is 0.0005494505494505475\n",
      "PMF of the value: 5 is 0.0\n",
      "PMF of the value: 6 is 0.0\n"
     ]
    }
   ],
   "source": [
    "# Calculate the P(X>value)\n",
    "for value in range(0,7):\n",
    "    rightintegral = 1-hypergeom.cdf(value-1, N, r, n)\n",
    "    print(\"PMF of the value:\", value,\"is\", rightintegral)"
   ]
  },
  {
   "cell_type": "code",
   "execution_count": 69,
   "id": "606c825a",
   "metadata": {},
   "outputs": [
    {
     "name": "stdout",
     "output_type": "stream",
     "text": [
      "sample we have: [1, 1, 0, 1], estimate of phi 0.75\n",
      "null: phi = 0.75\n",
      "probability of P(X>=3|phi=0.25) = P(reject H0|H0True) 0.7554945054945055 , PVALUE\n",
      "if significance is at 0.05, then we would reject the null hypothesis! as our value is too extreme.\n"
     ]
    }
   ],
   "source": [
    "print(f'sample we have: {sample}, estimate of phi {phi_est}')\n",
    "print(f'null: phi = {phi}')\n",
    "print(f'probability of P(X>=3|phi=0.25) = P(reject H0|H0True)', 1-hypergeom.cdf(3-1, N, r, n),', PVALUE')\n",
    "print('if significance is at 0.05, then we would reject the null hypothesis! as our value is too extreme.')"
   ]
  },
  {
   "cell_type": "code",
   "execution_count": 70,
   "id": "fca57d4f",
   "metadata": {},
   "outputs": [
    {
     "name": "stdout",
     "output_type": "stream",
     "text": [
      "sample we have: [3, 2, 2, 3, 4, 3, 2, 3, 2, 4, 3, 2, 3, 2, 3, 3, 4, 4, 4, 4, 3, 2, 3, 3, 4, 2, 4, 3, 2, 3, 4, 4, 2, 3, 3, 3, 4, 3, 2, 2, 4, 2, 3, 3, 3, 4, 2, 4, 1, 3, 4, 3, 3, 3, 3, 2, 2, 3, 4, 2, 3, 1, 3, 4, 3, 3, 4, 2, 3, 3, 4, 4, 3, 4, 3, 3, 3, 3, 4, 2, 3, 3, 3, 3, 4, 3, 2, 2, 3, 3, 2, 2, 4, 4, 3, 4, 4, 2, 3, 4, 2, 2, 3, 3, 3, 3, 4, 4, 3, 1, 2, 4, 3, 4, 2, 3, 3, 3, 3, 4, 2, 3, 3, 3, 4, 3, 4, 4, 3, 2, 4, 4, 3, 2, 3, 1, 3, 3, 2, 2, 3, 3, 2, 2, 3, 3, 3, 3, 2, 3, 4, 3, 2, 3, 4, 3, 4, 2, 3, 3, 3, 3, 2, 4, 1, 3, 3, 3, 3, 4, 4, 3, 4, 4, 3, 2, 2, 4, 3, 2, 4, 2, 4, 2, 2, 3, 2, 3, 1, 2, 3, 3, 2, 3, 4, 2, 3, 3, 2, 4, 3, 2, 4, 3, 3, 4, 2, 3, 2, 3, 3, 3, 4, 3, 3, 4, 3, 3, 4, 2, 2, 4, 3, 4, 4, 2, 3, 3, 4, 3, 2, 3, 2, 3, 3, 4, 1, 3, 4, 2, 3, 4, 2, 4, 3, 4, 2, 3, 2, 3, 4, 3, 2, 3, 3, 3, 4, 3, 2, 3, 3, 4, 3, 4, 1, 4, 3, 3, 4, 2, 2, 1, 3, 2, 4, 4, 3, 3, 4, 2, 4, 3, 2, 3, 2, 3, 2, 4, 3, 4, 4, 3, 4, 3, 3, 3, 4, 3, 3, 3, 4, 3, 2, 3, 2, 3, 4, 3, 3, 2, 3, 2, 2, 3, 3, 3, 2, 3, 2, 4, 3, 2, 2, 3, 3, 2, 3, 3, 3, 3, 3, 4, 4, 4, 2, 4, 2, 3, 3, 3, 3, 2, 3, 3, 3, 4, 3, 4, 1, 3, 3, 2, 4, 3, 3, 4, 3, 4, 2, 3, 2, 2, 3, 4, 4, 3, 3, 1, 4, 3, 4, 3, 3, 2, 2, 2, 3, 3, 4, 3, 3, 2, 4, 3, 3, 4, 4, 2, 4, 4, 4, 3, 2, 3, 3, 3, 3, 2, 2, 3, 3, 4, 3, 4, 4, 3, 3, 2, 2, 1, 2, 3, 3, 3, 2, 3, 2, 3, 3, 2, 4, 3, 3, 2, 3, 3, 4, 2, 2, 2, 3, 2, 3, 3, 2, 4, 4, 3, 3, 4, 3, 3, 4, 4, 1, 0, 2, 2, 2, 3, 2, 2, 4, 2, 4, 3, 2, 3, 2, 3, 2, 4, 3, 3, 3, 3, 4, 3, 2, 3, 3, 3, 3, 3, 4, 3, 4, 4, 3, 2, 4, 3, 4, 3, 3, 2, 4, 3, 3, 3, 4, 2, 4, 3, 1, 2, 2, 4, 3, 2, 4, 2, 4, 4, 2, 2, 4, 4, 3, 2, 1, 2, 3, 4, 3, 3, 3, 4, 3, 3, 3, 4, 2, 2, 3, 3, 3, 3, 3, 2, 2, 2, 2, 4, 3, 4, 3, 3, 3, 2, 2, 2, 4, 3, 3, 2, 3, 2, 2, 4, 2, 3, 3, 4, 3, 4, 4, 3, 2, 3, 2, 3, 4, 4, 4, 3, 3, 4, 3, 3, 2, 3, 4, 3, 3, 2, 2, 3, 3, 3, 2, 4, 4, 1, 4, 2, 2, 2, 3, 3, 2, 3, 3, 3, 3, 3, 2, 2, 3, 4, 3, 3, 1, 3, 2, 4, 3, 3, 4, 1, 4, 4, 3, 3, 3, 4, 2, 4, 3, 2, 3, 3, 4, 4, 4, 3, 4, 3, 3, 3, 3, 3, 3, 3, 4, 3, 3, 3, 4, 3, 2, 2, 3, 2, 2, 3, 3, 2, 3, 4, 3, 2, 3, 3, 4, 3, 4, 3, 3, 3, 2, 3, 4, 4, 3, 3, 4, 2, 3, 4, 4, 3, 3, 3, 1, 2, 2, 3, 2, 4, 3, 4, 2, 4, 4, 2, 3, 3, 2, 3, 4, 3, 3, 2, 3, 4, 3, 3, 2, 2, 4, 3, 4, 2, 2, 4, 3, 3, 4, 2, 3, 3, 3, 4, 3, 3, 3, 4, 3, 4, 3, 3, 3, 2, 3, 4, 4, 3, 3, 4, 3, 4, 3, 3, 2, 2, 3, 4, 3, 3, 3, 2, 4, 3, 3, 3, 3, 4, 4, 2, 3, 2, 4, 4, 4, 4, 2, 2, 4, 3, 3, 2, 4, 3, 3, 3, 3, 3, 3, 3, 3, 3, 3, 4, 3, 3, 3, 3, 4, 4, 1, 3, 2, 4, 3, 2, 3, 4, 2, 1, 2, 3, 3, 4, 4, 2, 4, 3, 2, 3, 3, 4, 3, 1, 1, 2, 4, 3, 3, 3, 4, 1, 4, 2, 4, 3, 3, 3, 3, 4, 3, 2, 4, 4, 3, 1, 2, 3, 1, 3, 3, 3, 2, 3, 3, 4, 3, 4, 3, 3, 3, 3, 2, 2, 4, 4, 4, 3, 3, 4, 3, 2, 2, 2, 3, 4, 3, 2, 2, 4, 4, 3, 2, 3, 3, 3, 4, 4, 2, 2, 2, 3, 4, 4, 4, 2, 3, 3, 4, 3, 4, 3, 3, 3, 3, 3, 2, 2, 4, 3, 4, 4, 4, 1, 3, 4, 3, 3, 4, 4, 3, 2, 4, 3, 3, 3, 4, 3, 2, 3, 3, 3, 3, 4, 3, 3, 3, 2, 3, 3, 3, 3, 2, 3, 3, 3, 2, 3, 1, 3, 3, 3, 3, 4, 4, 4, 3, 3, 4, 3, 2, 2, 3, 3, 2, 2, 3, 2, 3, 2, 3, 3, 4, 3, 3, 3, 2, 4, 3, 3, 4, 2, 2, 3, 4, 3, 2, 3, 4, 3, 3, 4, 2, 4, 3, 2, 3, 4, 4, 2, 4, 2, 4, 4, 2, 3, 4, 3, 4, 3, 2, 4, 4, 3, 3, 2, 4, 4, 3, 4]\n"
     ]
    }
   ],
   "source": [
    "# Power of test for alternative Ha: phi = 0.75\n",
    "# Whe the null is phi = 0.25. \n",
    "\n",
    "# let true value of parameter (null)\n",
    "phi = 0.75\n",
    "\n",
    "# Parameters for the hypergeometric distribution\n",
    "N = 16\n",
    "r = int(N * phi)\n",
    "n = 4\n",
    "\n",
    "# Draw 1000 samples from the hypergeometric distribution\n",
    "samples = [hypergeom.rvs(N, r, n) for i in range(1000)]\n",
    "\n",
    "print(f'sample we have: {samples}')"
   ]
  },
  {
   "cell_type": "code",
   "execution_count": 71,
   "id": "232d6d08",
   "metadata": {},
   "outputs": [
    {
     "data": {
      "image/png": "[encoded data removed]",
      "text/plain": [
       "<Figure size 640x480 with 1 Axes>"
      ]
     },
     "metadata": {},
     "output_type": "display_data"
    }
   ],
   "source": [
    "import matplotlib.pyplot as plt\n",
    "plt.hist(samples, bins=4, edgecolor='black')\n",
    "plt.xlabel('Value')\n",
    "plt.ylabel('Frequency')\n",
    "plt.title('Histogram')\n",
    "plt.show()"
   ]
  },
  {
   "cell_type": "code",
   "execution_count": 72,
   "id": "8f29140f",
   "metadata": {},
   "outputs": [
    {
     "name": "stdout",
     "output_type": "stream",
     "text": [
      "PMF of the value: 0 is 1.0\n",
      "PMF of the value: 1 is 0.9994505494505495\n",
      "PMF of the value: 2 is 0.9730769230769231\n",
      "PMF of the value: 3 is 0.7554945054945055\n",
      "PMF of the value: 4 is 0.2719780219780219\n",
      "PMF of the value: 5 is 0.0\n",
      "PMF of the value: 6 is 0.0\n"
     ]
    }
   ],
   "source": [
    "# Calculate the P(X>value)\n",
    "for value in range(0,7):\n",
    "    rightintegral = 1-hypergeom.cdf(value-1, N, r, n)\n",
    "    print(\"PMF of the value:\", value,\"is\", rightintegral)"
   ]
  },
  {
   "cell_type": "code",
   "execution_count": 73,
   "id": "786aff93",
   "metadata": {},
   "outputs": [],
   "source": [
    "# Beta is P(dont reject H0|Ha is true)"
   ]
  },
  {
   "cell_type": "code",
   "execution_count": null,
   "id": "96253b7c",
   "metadata": {},
   "outputs": [],
   "source": []
  }
 ],
 "metadata": {
  "kernelspec": {
   "display_name": "Python 3 (ipykernel)",
   "language": "python",
   "name": "python3"
  },
  "language_info": {
   "codemirror_mode": {
    "name": "ipython",
    "version": 3
   },
   "file_extension": ".py",
   "mimetype": "text/x-python",
   "name": "python",
   "nbconvert_exporter": "python",
   "pygments_lexer": "ipython3",
   "version": "3.10.9"
  }
 },
 "nbformat": 4,
 "nbformat_minor": 5
}
