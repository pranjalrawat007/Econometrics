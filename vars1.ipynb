{
 "cells": [
  {
   "cell_type": "code",
   "execution_count": 131,
   "id": "ff44c6e1",
   "metadata": {},
   "outputs": [],
   "source": [
    "import pandas_datareader.data as web    # pandas 0.19.x and later\n",
    "import statsmodels.api as sm\n",
    "import statsmodels.formula.api as smf\n",
    "import pandas as pd\n",
    "import numpy as np\n",
    "import datetime\n",
    "import plotly.io as pio\n",
    "pio.renderers.default = 'svg'\n",
    "import plotly.express as px"
   ]
  },
  {
   "cell_type": "code",
   "execution_count": 132,
   "id": "9cd7fb4e",
   "metadata": {},
   "outputs": [
    {
     "data": {
      "text/html": [
       "<div>\n",
       "<style scoped>\n",
       "    .dataframe tbody tr th:only-of-type {\n",
       "        vertical-align: middle;\n",
       "    }\n",
       "\n",
       "    .dataframe tbody tr th {\n",
       "        vertical-align: top;\n",
       "    }\n",
       "\n",
       "    .dataframe thead th {\n",
       "        text-align: right;\n",
       "    }\n",
       "</style>\n",
       "<table border=\"1\" class=\"dataframe\">\n",
       "  <thead>\n",
       "    <tr style=\"text-align: right;\">\n",
       "      <th></th>\n",
       "      <th>y</th>\n",
       "      <th>p</th>\n",
       "      <th>i</th>\n",
       "      <th>t</th>\n",
       "    </tr>\n",
       "    <tr>\n",
       "      <th>DATE</th>\n",
       "      <th></th>\n",
       "      <th></th>\n",
       "      <th></th>\n",
       "      <th></th>\n",
       "    </tr>\n",
       "  </thead>\n",
       "  <tbody>\n",
       "    <tr>\n",
       "      <th>1960-01-01</th>\n",
       "      <td>4.9</td>\n",
       "      <td>2.1</td>\n",
       "      <td>3.933333</td>\n",
       "      <td>0</td>\n",
       "    </tr>\n",
       "    <tr>\n",
       "      <th>1960-04-01</th>\n",
       "      <td>2.1</td>\n",
       "      <td>2.0</td>\n",
       "      <td>3.696667</td>\n",
       "      <td>1</td>\n",
       "    </tr>\n",
       "    <tr>\n",
       "      <th>1960-07-01</th>\n",
       "      <td>2.5</td>\n",
       "      <td>1.7</td>\n",
       "      <td>2.936667</td>\n",
       "      <td>2</td>\n",
       "    </tr>\n",
       "    <tr>\n",
       "      <th>1960-10-01</th>\n",
       "      <td>0.9</td>\n",
       "      <td>1.4</td>\n",
       "      <td>2.296667</td>\n",
       "      <td>3</td>\n",
       "    </tr>\n",
       "    <tr>\n",
       "      <th>1961-01-01</th>\n",
       "      <td>-0.7</td>\n",
       "      <td>1.3</td>\n",
       "      <td>2.003333</td>\n",
       "      <td>4</td>\n",
       "    </tr>\n",
       "  </tbody>\n",
       "</table>\n",
       "</div>"
      ],
      "text/plain": [
       "              y    p         i  t\n",
       "DATE                             \n",
       "1960-01-01  4.9  2.1  3.933333  0\n",
       "1960-04-01  2.1  2.0  3.696667  1\n",
       "1960-07-01  2.5  1.7  2.936667  2\n",
       "1960-10-01  0.9  1.4  2.296667  3\n",
       "1961-01-01 -0.7  1.3  2.003333  4"
      ]
     },
     "execution_count": 132,
     "metadata": {},
     "output_type": "execute_result"
    }
   ],
   "source": [
    "start = datetime.datetime(1960, 1, 1)\n",
    "end = datetime.datetime(2023, 1, 27)\n",
    "df = pd.DataFrame([])\n",
    "df['y'] = web.DataReader(\"A191RO1Q156NBEA\", \"fred\", start, end)\n",
    "df['p'] = web.DataReader(\"BPCCRO1Q156NBEA\", \"fred\", start, end)\n",
    "df['i'] = web.DataReader(\"FEDFUNDS\", \"fred\", start, end).resample('QS').mean()\n",
    "df['t'] = np.array(range(df.shape[0]))\n",
    "df.head()"
   ]
  },
  {
   "cell_type": "code",
   "execution_count": 133,
   "id": "08be9b72",
   "metadata": {},
   "outputs": [
    {
     "data": {
      "image/svg+xml": [
       "<svg class=\"main-svg\" xmlns=\"http://www.w3.org/2000/svg\" xmlns:xlink=\"http://www.w3.org/1999/xlink\" width=\"700\" height=\"500\" style=\"\" viewBox=\"0 0 700 500\"><rect x=\"0\" y=\"0\" width=\"700\" height=\"500\" style=\"fill: rgb(255, 255, 255); fill-opacity: 1;\"/><defs id=\"defs-b32668\"><g class=\"clips\"><clipPath id=\"clipb32668xyplot\" class=\"plotclip\"><rect width=\"455\" height=\"360\"/></clipPath><clipPath class=\"axesclip\" id=\"clipb32668x\"><rect x=\"80\" y=\"0\" width=\"455\" height=\"500\"/></clipPath><clipPath class=\"axesclip\" id=\"clipb32668y\"><rect x=\"0\" y=\"60\" width=\"700\" height=\"360\"/></clipPath><clipPath class=\"axesclip\" id=\"clipb32668xy\"><rect x=\"80\" y=\"60\" width=\"455\" height=\"360\"/></clipPath></g><g class=\"gradients\"/><g class=\"patterns\"/></defs><g class=\"bglayer\"><rect class=\"bg\" x=\"80\" y=\"60\" width=\"455\" height=\"360\" style=\"fill: rgb(229, 236, 246); fill-opacity: 1; stroke-width: 0;\"/></g><g class=\"layer-below\"><g class=\"imagelayer\"/><g class=\"shapelayer\"/></g><g class=\"cartesianlayer\"><g class=\"subplot xy\"><g class=\"layer-subplot\"><g class=\"shapelayer\"/><g class=\"imagelayer\"/></g><g class=\"minor-gridlayer\"><g class=\"x\"/><g class=\"y\"/></g><g class=\"gridlayer\"><g class=\"x\"><path class=\"xgrid crisp\" transform=\"translate(170.64,0)\" d=\"M0,60v360\" style=\"stroke: rgb(255, 255, 255); stroke-opacity: 1; stroke-width: 1px;\"/><path class=\"xgrid crisp\" transform=\"translate(261.27,0)\" d=\"M0,60v360\" style=\"stroke: rgb(255, 255, 255); stroke-opacity: 1; stroke-width: 1px;\"/><path class=\"xgrid crisp\" transform=\"translate(351.91,0)\" d=\"M0,60v360\" style=\"stroke: rgb(255, 255, 255); stroke-opacity: 1; stroke-width: 1px;\"/><path class=\"xgrid crisp\" transform=\"translate(442.55,0)\" d=\"M0,60v360\" style=\"stroke: rgb(255, 255, 255); stroke-opacity: 1; stroke-width: 1px;\"/><path class=\"xgrid crisp\" transform=\"translate(533.19,0)\" d=\"M0,60v360\" style=\"stroke: rgb(255, 255, 255); stroke-opacity: 1; stroke-width: 1px;\"/></g><g class=\"y\"><path class=\"ygrid crisp\" transform=\"translate(0,359.92)\" d=\"M80,0h455\" style=\"stroke: rgb(255, 255, 255); stroke-opacity: 1; stroke-width: 1px;\"/><path class=\"ygrid crisp\" transform=\"translate(0,236.16)\" d=\"M80,0h455\" style=\"stroke: rgb(255, 255, 255); stroke-opacity: 1; stroke-width: 1px;\"/><path class=\"ygrid crisp\" transform=\"translate(0,174.28)\" d=\"M80,0h455\" style=\"stroke: rgb(255, 255, 255); stroke-opacity: 1; stroke-width: 1px;\"/><path class=\"ygrid crisp\" transform=\"translate(0,112.4)\" d=\"M80,0h455\" style=\"stroke: rgb(255, 255, 255); stroke-opacity: 1; stroke-width: 1px;\"/></g></g><g class=\"zerolinelayer\"><path class=\"xzl zl crisp\" transform=\"translate(80,0)\" d=\"M0,60v360\" style=\"stroke: rgb(255, 255, 255); stroke-opacity: 1; stroke-width: 2px;\"/><path class=\"yzl zl crisp\" transform=\"translate(0,298.03999999999996)\" d=\"M80,0h455\" style=\"stroke: rgb(255, 255, 255); stroke-opacity: 1; stroke-width: 2px;\"/></g><path class=\"xlines-below\"/><path class=\"ylines-below\"/><g class=\"overlines-below\"/><g class=\"xaxislayer-below\"/><g class=\"yaxislayer-below\"/><g class=\"overaxes-below\"/><g class=\"plot\" transform=\"translate(80,60)\" clip-path=\"url(#clipb32668xyplot)\"><g class=\"scatterlayer mlayer\"><g class=\"trace scatter tracebf8b8b\" style=\"stroke-miterlimit: 2; opacity: 1;\"><g class=\"fills\"/><g class=\"errorbars\"/><g class=\"lines\"><path class=\"js-line\" d=\"M0,177.4L1.81,212.05L3.63,207.1L7.25,246.71L9.06,218.24L10.88,200.92L12.69,158.84L14.5,143.99L16.31,155.12L18.13,163.79L19.94,184.83L21.75,193.49L23.57,191.01L25.38,178.64L27.19,173.69L29,161.31L30.82,161.31L32.63,169.98L34.44,173.69L38.07,167.5L39.88,160.07L41.69,132.85L43.51,132.85L45.32,145.22L47.13,163.79L50.76,202.15L52.57,205.87L54.38,204.63L56.2,204.63L58.01,191.01L59.82,169.98L63.45,176.16L65.26,182.35L67.07,199.68L68.88,202.15L70.7,213.29L72.51,234.33L74.32,235.57L76.14,233.09L77.95,240.52L79.76,204.63L81.57,199.68L83.39,200.92L85.2,183.59L87.01,194.73L88.82,172.45L90.64,171.21L92.45,152.65L94.26,143.99L99.7,188.54L101.51,230.62L103.33,240.52L105.14,245.47L106.95,261.56L108.76,266.51L110.58,260.32L112.39,228.14L114.2,205.87L116.02,161.31L117.83,161.31L119.64,176.16L121.45,184.83L123.27,198.44L126.89,166.26L128.71,176.16L130.52,187.3L132.33,162.55L134.14,173.69L135.96,155.12L137.77,157.6L139.58,204.63L141.39,208.34L143.21,221.95L145.02,220.72L146.83,247.94L148.65,257.84L150.46,238.04L155.9,184.83L157.71,221.95L159.52,265.27L161.33,250.42L163.15,270.22L164.96,255.37L168.59,197.2L170.4,167.5L172.21,140.27L174.02,131.61L175.84,139.04L177.65,152.65L181.27,181.11L183.09,192.25L184.9,184.83L186.71,186.06L188.53,187.3L190.34,192.25L192.15,199.68L193.96,202.15L195.78,204.63L197.59,195.96L199.4,197.2L201.22,182.35L203.03,186.06L204.84,182.35L208.47,191.01L210.28,184.83L212.09,192.25L213.9,189.78L215.72,204.63L217.53,203.39L219.34,208.34L221.16,217L224.78,249.18L226.59,244.23L228.41,239.28L230.22,223.19L232.03,202.15L233.84,198.44L237.47,183.59L239.28,197.2L242.91,209.58L244.72,205.87L248.35,186.06L250.16,184.83L251.97,187.3L253.78,194.73L255.6,208.34L257.41,204.63L259.22,210.82L261.04,205.87L262.85,188.54L264.66,188.54L266.47,183.59L268.29,184.83L270.1,184.83L271.91,179.88L273.73,182.35L275.54,177.4L277.35,187.3L279.16,187.3L280.98,177.4L282.79,178.64L284.6,179.88L286.41,178.64L288.23,178.64L290.04,186.06L291.85,173.69L293.67,188.54L299.1,225.67L300.92,231.85L302.73,235.57L304.54,221.95L306.35,221.95L308.17,212.05L309.98,213.29L311.79,217L313.61,213.29L315.42,198.44L317.23,184.83L319.04,183.59L320.86,186.06L322.67,194.73L324.48,195.96L326.29,189.78L331.73,200.92L333.55,198.44L335.36,200.92L337.17,209.58L338.98,205.87L340.8,219.48L344.42,208.34L346.24,210.82L348.05,220.72L349.86,220.72L351.67,235.57L353.49,268.98L357.11,287.55L358.92,276.41L360.74,236.81L362.55,215.77L364.36,202.15L366.18,197.2L367.99,203.39L369.8,213.29L371.61,217L373.43,226.9L375.24,219.48L377.05,205.87L378.86,208.34L380.68,205.87L382.49,218.24L384.3,218.24L386.12,221.95L387.93,214.53L389.74,207.1L391.55,221.95L393.37,207.1L395.18,203.39L396.99,205.87L398.8,191.01L402.43,210.82L404.24,214.53L407.87,220.72L409.68,218.24L411.49,213.29L413.31,215.77L416.93,209.58L418.75,203.39L422.37,197.2L424.18,198.44L426,209.58L427.81,210.82L429.62,212.05L431.43,209.58L433.25,205.87L435.06,228.14L436.87,342L438.69,262.79L440.5,256.61L442.31,223.19L444.12,83.34L445.94,176.16L447.75,167.5L449.56,192.25L451.37,215.77L453.19,214.53L455,225.67\" style=\"vector-effect: non-scaling-stroke; fill: none; stroke: rgb(99, 110, 250); stroke-opacity: 1; stroke-width: 2px; opacity: 1;\"/></g><g class=\"points\"/><g class=\"text\"/></g><g class=\"trace scatter trace8e21c3\" style=\"stroke-miterlimit: 2; opacity: 1;\"><g class=\"fills\"/><g class=\"errorbars\"/><g class=\"lines\"><path class=\"js-line\" d=\"M0,212.05L1.81,213.29L3.63,217L5.44,220.72L7.25,221.95L9.06,223.19L10.88,221.95L12.69,223.19L14.5,220.72L16.31,220.72L18.13,221.95L19.94,221.95L21.75,223.19L23.57,223.19L25.38,221.95L27.19,218.24L29,217L32.63,219.48L34.44,221.95L36.25,223.19L38.07,223.19L39.88,221.95L41.69,221.95L43.51,219.48L45.32,213.29L48.94,200.92L50.76,199.68L52.57,202.15L54.38,200.92L56.2,198.44L58.01,191.01L59.82,184.83L61.63,182.35L63.45,179.88L65.26,181.11L67.07,179.88L68.88,179.88L72.51,179.88L74.32,181.11L76.14,181.11L77.95,178.64L79.76,176.16L81.57,176.16L83.39,178.64L85.2,188.54L87.01,192.25L88.82,198.44L90.64,200.92L92.45,200.92L94.26,203.39L96.08,194.73L99.7,177.4L101.51,165.03L106.95,116.76L108.76,113.05L110.58,125.42L112.39,143.99L116.02,160.07L117.83,163.79L121.45,163.79L123.27,161.31L125.08,157.6L126.89,156.36L128.71,157.6L130.52,160.07L132.33,156.36L134.14,156.36L135.96,151.41L137.77,153.89L139.58,147.7L141.39,146.46L143.21,142.75L145.02,127.9L146.83,127.9L148.65,122.95L150.46,118L152.27,121.71L155.9,130.37L157.71,139.04L161.33,156.36L163.15,160.07L164.96,165.03L166.77,166.26L168.59,173.69L170.4,174.93L172.21,182.35L174.02,186.06L175.84,181.11L177.65,188.54L179.46,189.78L181.27,184.83L183.09,189.78L184.9,188.54L186.71,188.54L188.53,192.25L190.34,193.49L192.15,198.44L193.96,197.2L195.78,203.39L204.84,186.06L206.65,183.59L208.47,182.35L210.28,179.88L213.9,189.78L215.72,192.25L217.53,191.01L219.34,188.54L221.16,184.83L222.97,186.06L228.41,195.96L230.22,195.96L233.84,198.44L235.66,202.15L239.28,204.63L241.1,203.39L242.91,203.39L244.72,207.1L248.35,210.82L250.16,210.82L251.97,210.82L253.78,209.58L257.41,212.05L259.22,212.05L264.66,215.77L266.47,214.53L268.29,214.53L270.1,213.29L273.73,219.48L275.54,220.72L277.35,223.19L279.16,221.95L280.98,221.95L282.79,223.19L284.6,221.95L286.41,221.95L288.23,220.72L290.04,217L291.85,217L293.67,215.77L297.29,213.29L299.1,213.29L300.92,215.77L302.73,215.77L304.54,220.72L306.35,218.24L308.17,214.53L309.98,215.77L311.79,215.77L313.61,218.24L315.42,219.48L317.23,218.24L320.86,213.29L322.67,214.53L324.48,213.29L326.29,210.82L328.11,212.05L329.92,210.82L331.73,209.58L333.55,212.05L335.36,207.1L337.17,205.87L338.98,208.34L340.8,207.1L342.61,212.05L344.42,213.29L346.24,209.58L348.05,212.05L349.86,212.05L351.67,210.82L355.3,226.9L357.11,228.14L358.92,229.38L360.74,220.72L362.55,217L364.36,218.24L367.99,224.43L369.8,223.19L373.43,215.77L375.24,215.77L377.05,213.29L378.86,214.53L380.68,217L382.49,215.77L386.12,220.72L387.93,219.48L389.74,218.24L391.55,219.48L393.37,217L395.18,217L398.8,220.72L400.62,221.95L404.24,224.43L406.06,220.72L407.87,219.48L409.68,217L413.31,214.53L415.12,217L416.93,219.48L418.75,217L422.37,213.29L424.18,212.05L426,213.29L427.81,217L429.62,217L431.43,215.77L433.25,218.24L435.06,217L436.87,226.9L438.69,221.95L440.5,220.72L442.31,217L444.12,194.73L445.94,189.78L449.56,172.45L451.37,176.16L453.19,177.4L455,179.88\" style=\"vector-effect: non-scaling-stroke; fill: none; stroke: rgb(239, 85, 59); stroke-opacity: 1; stroke-width: 2px; opacity: 1;\"/></g><g class=\"points\"/><g class=\"text\"/></g><g class=\"trace scatter trace26bbcc\" style=\"stroke-miterlimit: 2; opacity: 1;\"><g class=\"fills\"/><g class=\"errorbars\"/><g class=\"lines\"><path class=\"js-line\" d=\"M0,189.36L1.81,192.29L3.63,201.7L5.44,209.62L7.25,213.25L9.06,216.59L10.88,217.21L12.69,208.34L14.5,207.64L16.31,205.78L18.13,202.81L21.75,201.33L23.57,201.37L25.38,196.83L27.19,195.3L32.63,195.26L34.44,193.78L36.25,188.83L38.07,187.55L39.88,187.59L41.69,186.48L47.13,171.09L48.94,169.19L52.57,188.66L54.38,189.86L56.2,186.39L58.01,178.76L59.82,163.99L61.63,164.45L63.45,164.82L65.26,156.77L67.07,134.99L68.88,126.87L70.7,127.4L72.51,131.94L74.32,140.44L76.14,155.04L77.95,169.15L79.76,190.31L83.39,170.26L85.2,179.26L87.01,194.15L88.82,184.83L92.45,174.35L94.26,157.15L96.08,141.3L97.89,107.35L101.51,122.66L103.33,98.81L105.14,88.42L106.95,122.37L108.76,160.03L110.58,170.97L112.39,161.81L114.2,171.05L116.02,178.31L117.83,173.73L119.64,172.66L121.45,177.73L123.27,180.37L125.08,174.22L128.71,157.43L130.52,154.42L132.33,147.91L134.14,137.8L135.96,119.44L137.77,113.38L139.58,112.06L141.39,102.57L143.21,70.02L145.02,51.83L148.65,116.31L150.46,41.84L152.27,32.97L154.08,18L155.9,20.52L157.71,69.9L159.52,61.98L161.33,58.43L163.15,101.83L164.96,123.11L166.77,130.95L168.59,129.09L170.4,120.97L172.21,121.34L174.02,118.16L175.84,107.39L177.65,97.08L179.46,123.36L183.09,139.98L184.9,140.27L186.71,137.76L188.53,141.18L192.15,161.23L193.96,160.49L195.78,161.06L197.59,155.74L199.4,153.35L201.22,152.44L203.03,155.58L204.84,149.47L210.28,121.17L212.09,117.67L215.72,131.45L217.53,135.94L219.34,136.02L221.16,137.06L222.97,142.21L224.78,158.51L226.59,165.48L228.41,168.2L232.03,188.25L233.84,191.39L235.66,197.74L237.47,200.46L242.91,200.17L244.72,201.04L246.53,198.28L248.35,189.28L253.78,166.14L255.6,163.54L257.41,166.3L259.22,167.25L261.04,171.67L262.85,173.15L264.66,172.37L266.47,172.7L268.29,172.74L270.1,169.69L275.54,169.73L277.35,169.98L279.16,169.56L280.98,177.9L282.79,179.46L284.6,179.3L290.04,167.79L291.85,160.4L293.67,157.35L295.48,157.93L297.29,168.82L299.1,184.5L300.92,194.77L302.73,211.64L304.54,216.59L306.35,216.39L308.17,216.51L309.98,220.18L311.79,222.57L313.61,222.61L315.42,225.46L317.23,225.71L320.86,225.54L322.67,220.3L335.36,177.32L337.17,173.11L342.61,173.07L344.42,175.26L346.24,182.39L348.05,198.73L349.86,212.22L351.67,214.03L353.49,231.77L355.3,235.77L362.55,236.39L364.36,235.65L369.8,236.1L371.61,236.89L377.05,236.76L378.86,236.15L395.18,236.93L396.99,236.81L404.24,236.06L406.06,233.59L411.49,232.47L413.31,229.38L416.93,223.77L418.75,223.15L427.81,208.3L429.62,208.38L431.43,210.94L433.25,217.71L435.06,222.45L436.87,237.3L440.5,236.93L442.31,237.05L447.75,237.05L449.56,236.56L451.37,228.51L453.19,210.94L455,192.83\" style=\"vector-effect: non-scaling-stroke; fill: none; stroke: rgb(0, 204, 150); stroke-opacity: 1; stroke-width: 2px; opacity: 1;\"/></g><g class=\"points\"/><g class=\"text\"/></g></g></g><g class=\"overplot\"/><path class=\"xlines-above crisp\" d=\"M0,0\" style=\"fill: none;\"/><path class=\"ylines-above crisp\" d=\"M0,0\" style=\"fill: none;\"/><g class=\"overlines-above\"/><g class=\"xaxislayer-above\"><g class=\"xtick\"><text text-anchor=\"middle\" x=\"0\" y=\"433\" transform=\"translate(80,0)\" style=\"font-family: 'Open Sans', verdana, arial, sans-serif; font-size: 12px; fill: rgb(42, 63, 95); fill-opacity: 1; white-space: pre; opacity: 1;\">0</text></g><g class=\"xtick\"><text text-anchor=\"middle\" x=\"0\" y=\"433\" style=\"font-family: 'Open Sans', verdana, arial, sans-serif; font-size: 12px; fill: rgb(42, 63, 95); fill-opacity: 1; white-space: pre; opacity: 1;\" transform=\"translate(170.64,0)\">50</text></g><g class=\"xtick\"><text text-anchor=\"middle\" x=\"0\" y=\"433\" style=\"font-family: 'Open Sans', verdana, arial, sans-serif; font-size: 12px; fill: rgb(42, 63, 95); fill-opacity: 1; white-space: pre; opacity: 1;\" transform=\"translate(261.27,0)\">100</text></g><g class=\"xtick\"><text text-anchor=\"middle\" x=\"0\" y=\"433\" style=\"font-family: 'Open Sans', verdana, arial, sans-serif; font-size: 12px; fill: rgb(42, 63, 95); fill-opacity: 1; white-space: pre; opacity: 1;\" transform=\"translate(351.91,0)\">150</text></g><g class=\"xtick\"><text text-anchor=\"middle\" x=\"0\" y=\"433\" style=\"font-family: 'Open Sans', verdana, arial, sans-serif; font-size: 12px; fill: rgb(42, 63, 95); fill-opacity: 1; white-space: pre; opacity: 1;\" transform=\"translate(442.55,0)\">200</text></g><g class=\"xtick\"><text text-anchor=\"middle\" x=\"0\" y=\"433\" style=\"font-family: 'Open Sans', verdana, arial, sans-serif; font-size: 12px; fill: rgb(42, 63, 95); fill-opacity: 1; white-space: pre; opacity: 1;\" transform=\"translate(533.19,0)\">250</text></g></g><g class=\"yaxislayer-above\"><g class=\"ytick\"><text text-anchor=\"end\" x=\"79\" y=\"4.199999999999999\" transform=\"translate(0,359.92)\" style=\"font-family: 'Open Sans', verdana, arial, sans-serif; font-size: 12px; fill: rgb(42, 63, 95); fill-opacity: 1; white-space: pre; opacity: 1;\">−5</text></g><g class=\"ytick\"><text text-anchor=\"end\" x=\"79\" y=\"4.199999999999999\" style=\"font-family: 'Open Sans', verdana, arial, sans-serif; font-size: 12px; fill: rgb(42, 63, 95); fill-opacity: 1; white-space: pre; opacity: 1;\" transform=\"translate(0,298.03999999999996)\">0</text></g><g class=\"ytick\"><text text-anchor=\"end\" x=\"79\" y=\"4.199999999999999\" style=\"font-family: 'Open Sans', verdana, arial, sans-serif; font-size: 12px; fill: rgb(42, 63, 95); fill-opacity: 1; white-space: pre; opacity: 1;\" transform=\"translate(0,236.16)\">5</text></g><g class=\"ytick\"><text text-anchor=\"end\" x=\"79\" y=\"4.199999999999999\" style=\"font-family: 'Open Sans', verdana, arial, sans-serif; font-size: 12px; fill: rgb(42, 63, 95); fill-opacity: 1; white-space: pre; opacity: 1;\" transform=\"translate(0,174.28)\">10</text></g><g class=\"ytick\"><text text-anchor=\"end\" x=\"79\" y=\"4.199999999999999\" style=\"font-family: 'Open Sans', verdana, arial, sans-serif; font-size: 12px; fill: rgb(42, 63, 95); fill-opacity: 1; white-space: pre; opacity: 1;\" transform=\"translate(0,112.4)\">15</text></g></g><g class=\"overaxes-above\"/></g></g><g class=\"polarlayer\"/><g class=\"smithlayer\"/><g class=\"ternarylayer\"/><g class=\"geolayer\"/><g class=\"funnelarealayer\"/><g class=\"pielayer\"/><g class=\"iciclelayer\"/><g class=\"treemaplayer\"/><g class=\"sunburstlayer\"/><g class=\"glimages\"/><defs id=\"topdefs-b32668\"><g class=\"clips\"/><clipPath id=\"legendb32668\"><rect width=\"144\" height=\"86\" x=\"0\" y=\"0\"/></clipPath></defs><g class=\"layer-above\"><g class=\"imagelayer\"/><g class=\"shapelayer\"/></g><g class=\"infolayer\"><g class=\"legend\" pointer-events=\"all\" transform=\"translate(544.1,60)\"><rect class=\"bg\" shape-rendering=\"crispEdges\" width=\"144\" height=\"86\" x=\"0\" y=\"0\" style=\"stroke: rgb(68, 68, 68); stroke-opacity: 1; fill: rgb(255, 255, 255); fill-opacity: 1; stroke-width: 0px;\"/><g class=\"scrollbox\" transform=\"\" clip-path=\"url(#legendb32668)\"><text class=\"legendtitletext\" text-anchor=\"start\" x=\"2\" y=\"18.2\" style=\"font-family: 'Open Sans', verdana, arial, sans-serif; font-size: 14px; fill: rgb(42, 63, 95); fill-opacity: 1; white-space: pre;\">variable</text><g class=\"groups\" transform=\"\"><g class=\"traces\" transform=\"translate(0,32.7)\" style=\"opacity: 1;\"><text class=\"legendtext\" text-anchor=\"start\" x=\"40\" y=\"4.680000000000001\" style=\"font-family: 'Open Sans', verdana, arial, sans-serif; font-size: 12px; fill: rgb(42, 63, 95); fill-opacity: 1; white-space: pre;\">wide_variable_0</text><g class=\"layers\" style=\"opacity: 1;\"><g class=\"legendfill\"/><g class=\"legendlines\"><path class=\"js-line\" d=\"M5,0h30\" style=\"fill: none; stroke: rgb(99, 110, 250); stroke-opacity: 1; stroke-width: 2px;\"/></g><g class=\"legendsymbols\"><g class=\"legendpoints\"/></g></g><rect class=\"legendtoggle\" x=\"0\" y=\"-9.5\" width=\"138.484375\" height=\"19\" style=\"fill: rgb(0, 0, 0); fill-opacity: 0;\"/></g></g><g class=\"groups\" transform=\"\"><g class=\"traces\" transform=\"translate(0,51.7)\" style=\"opacity: 1;\"><text class=\"legendtext\" text-anchor=\"start\" x=\"40\" y=\"4.680000000000001\" style=\"font-family: 'Open Sans', verdana, arial, sans-serif; font-size: 12px; fill: rgb(42, 63, 95); fill-opacity: 1; white-space: pre;\">wide_variable_1</text><g class=\"layers\" style=\"opacity: 1;\"><g class=\"legendfill\"/><g class=\"legendlines\"><path class=\"js-line\" d=\"M5,0h30\" style=\"fill: none; stroke: rgb(239, 85, 59); stroke-opacity: 1; stroke-width: 2px;\"/></g><g class=\"legendsymbols\"><g class=\"legendpoints\"/></g></g><rect class=\"legendtoggle\" x=\"0\" y=\"-9.5\" width=\"138.484375\" height=\"19\" style=\"fill: rgb(0, 0, 0); fill-opacity: 0;\"/></g></g><g class=\"groups\" transform=\"\"><g class=\"traces\" transform=\"translate(0,70.7)\" style=\"opacity: 1;\"><text class=\"legendtext\" text-anchor=\"start\" x=\"40\" y=\"4.680000000000001\" style=\"font-family: 'Open Sans', verdana, arial, sans-serif; font-size: 12px; fill: rgb(42, 63, 95); fill-opacity: 1; white-space: pre;\">wide_variable_2</text><g class=\"layers\" style=\"opacity: 1;\"><g class=\"legendfill\"/><g class=\"legendlines\"><path class=\"js-line\" d=\"M5,0h30\" style=\"fill: none; stroke: rgb(0, 204, 150); stroke-opacity: 1; stroke-width: 2px;\"/></g><g class=\"legendsymbols\"><g class=\"legendpoints\"/></g></g><rect class=\"legendtoggle\" x=\"0\" y=\"-9.5\" width=\"138.484375\" height=\"19\" style=\"fill: rgb(0, 0, 0); fill-opacity: 0;\"/></g></g></g><rect class=\"scrollbar\" rx=\"20\" ry=\"3\" width=\"0\" height=\"0\" x=\"0\" y=\"0\" style=\"fill: rgb(128, 139, 164); fill-opacity: 1;\"/></g><g class=\"g-gtitle\"/><g class=\"g-xtitle\"><text class=\"xtitle\" x=\"307.5\" y=\"460.8\" text-anchor=\"middle\" style=\"font-family: 'Open Sans', verdana, arial, sans-serif; font-size: 14px; fill: rgb(42, 63, 95); opacity: 1; font-weight: normal; white-space: pre;\">x</text></g><g class=\"g-ytitle\"><text class=\"ytitle\" transform=\"rotate(-90,36.746875,240)\" x=\"36.746875\" y=\"240\" text-anchor=\"middle\" style=\"font-family: 'Open Sans', verdana, arial, sans-serif; font-size: 14px; fill: rgb(42, 63, 95); opacity: 1; font-weight: normal; white-space: pre;\">value</text></g></g></svg>"
      ]
     },
     "metadata": {},
     "output_type": "display_data"
    }
   ],
   "source": [
    "px.line(y=[df.y,df.p,df.i],x=df.t)"
   ]
  },
  {
   "cell_type": "code",
   "execution_count": 134,
   "id": "3924205a",
   "metadata": {},
   "outputs": [],
   "source": [
    "lags = 4\n",
    "for i in range(1,lags):\n",
    "    name = 'y.'+str(i)\n",
    "    df[name] = df.y.shift(i)\n",
    "    name = 'p.'+str(i)\n",
    "    df[name] = df.p.shift(i)\n",
    "    name = 'i.'+str(i)\n",
    "    df[name] = df.i.shift(i)\n",
    "df = df.iloc[i:]"
   ]
  },
  {
   "cell_type": "markdown",
   "id": "56aa6a11",
   "metadata": {},
   "source": [
    "### System OLS"
   ]
  },
  {
   "cell_type": "code",
   "execution_count": 135,
   "id": "8a551ea5",
   "metadata": {},
   "outputs": [
    {
     "data": {
      "text/plain": [
       "array([[ 1.0067702 ,  0.10583668, -0.31643254],\n",
       "       [ 0.84803824, -0.02298924,  0.01109639],\n",
       "       [ 0.08235247,  0.00925516,  0.07819583],\n",
       "       [-0.21149859,  0.00825242,  0.02449901],\n",
       "       [-0.82351805,  1.38959996,  0.29177324],\n",
       "       [ 0.76947779, -0.30261855, -0.46445895],\n",
       "       [ 0.02758298, -0.12589682,  0.30769918],\n",
       "       [ 0.26518902,  0.04582209,  1.17439349],\n",
       "       [-0.41508089,  0.0133446 , -0.46123813],\n",
       "       [ 0.13482773, -0.05025137,  0.1914963 ]])"
      ]
     },
     "execution_count": 135,
     "metadata": {},
     "output_type": "execute_result"
    }
   ],
   "source": [
    "Y = df[['y','p','i']].to_numpy()\n",
    "X1 = df.filter(regex=(\"y.*\"))\n",
    "X2 = df.filter(regex=(\"p.*\"))\n",
    "X3 = df.filter(regex=(\"i.*\"))\n",
    "X = np.c_[np.ones(X1.shape[0]),X1.iloc[:,1:],X2.iloc[:,1:],X3.iloc[:,1:]]\n",
    "θ_hat = np.dot(np.linalg.inv(np.dot(X.T,X)),np.dot(X.T,Y))\n",
    "θ_hat"
   ]
  },
  {
   "cell_type": "markdown",
   "id": "60c71182",
   "metadata": {},
   "source": [
    "### Equation by Equation"
   ]
  },
  {
   "cell_type": "code",
   "execution_count": 136,
   "id": "df60647e",
   "metadata": {},
   "outputs": [
    {
     "data": {
      "text/plain": [
       "[array([ 1. ,  0.8,  0.1, -0.2, -0.8,  0.8,  0. ,  0.3, -0.4,  0.1]),\n",
       " array([ 0.1, -0. ,  0. ,  0. ,  1.4, -0.3, -0.1,  0. ,  0. , -0.1]),\n",
       " array([-0.3,  0. ,  0.1,  0. ,  0.3, -0.5,  0.3,  1.2, -0.5,  0.2])]"
      ]
     },
     "execution_count": 136,
     "metadata": {},
     "output_type": "execute_result"
    }
   ],
   "source": [
    "ys = ['y','p','i']\n",
    "θs = []\n",
    "for i in ys:\n",
    "    y = df[i].to_numpy()\n",
    "    x = X \n",
    "    θ = np.dot(np.linalg.inv(np.dot(x.T,x)),np.dot(x.T,y))\n",
    "    θs.append(np.round(θ,1))\n",
    "θs  "
   ]
  },
  {
   "cell_type": "code",
   "execution_count": 137,
   "id": "0ff97cad",
   "metadata": {},
   "outputs": [
    {
     "name": "stdout",
     "output_type": "stream",
     "text": [
      "Correlation of residuals\n"
     ]
    },
    {
     "data": {
      "text/plain": [
       "array([[1.        , 0.33550329, 0.24988117],\n",
       "       [0.33550329, 1.        , 0.2408855 ],\n",
       "       [0.24988117, 0.2408855 , 1.        ]])"
      ]
     },
     "execution_count": 137,
     "metadata": {},
     "output_type": "execute_result"
    }
   ],
   "source": [
    "e = Y- np.dot(X, θ_hat)\n",
    "print('Correlation of residuals')\n",
    "np.corrcoef([e[:,0],e[:,1],e[:,2]])"
   ]
  },
  {
   "cell_type": "code",
   "execution_count": 129,
   "id": "27f5ef35",
   "metadata": {},
   "outputs": [],
   "source": [
    "e = Y- np.dot(X, θ_hat)\n",
    "Σ_hat = (1/X.shape[0])*np.dot(e.T,e)\n",
    "#θ_Var = np.dot(Σ_hat,np.linalg.inv(np.dot(X.T, X)))"
   ]
  },
  {
   "cell_type": "markdown",
   "id": "65c64a12",
   "metadata": {},
   "source": [
    "### Canned Solution"
   ]
  },
  {
   "cell_type": "code",
   "execution_count": 130,
   "id": "7f4daab1",
   "metadata": {},
   "outputs": [
    {
     "name": "stderr",
     "output_type": "stream",
     "text": [
      "/usr/local/lib/python3.10/site-packages/statsmodels/tsa/base/tsa_model.py:471: ValueWarning:\n",
      "\n",
      "No frequency information was provided, so inferred frequency QS-OCT will be used.\n",
      "\n"
     ]
    },
    {
     "data": {
      "text/plain": [
       "  Summary of Regression Results   \n",
       "==================================\n",
       "Model:                         VAR\n",
       "Method:                        OLS\n",
       "Date:           Sat, 18, Feb, 2023\n",
       "Time:                     02:12:24\n",
       "--------------------------------------------------------------------\n",
       "No. of Equations:         3.00000    BIC:                   -1.66299\n",
       "Nobs:                     245.000    HQIC:                  -1.99589\n",
       "Log likelihood:          -731.929    FPE:                   0.108605\n",
       "AIC:                     -2.22034    Det(Omega_mle):       0.0930015\n",
       "--------------------------------------------------------------------\n",
       "Results for equation y\n",
       "========================================================================\n",
       "           coefficient       std. error           t-stat            prob\n",
       "------------------------------------------------------------------------\n",
       "const         1.221343         0.239739            5.094           0.000\n",
       "L1.y          0.786717         0.069165           11.374           0.000\n",
       "L1.p         -0.738560         0.318418           -2.319           0.020\n",
       "L1.i          0.294774         0.117923            2.500           0.012\n",
       "L2.y          0.105946         0.090515            1.170           0.242\n",
       "L2.p          0.710209         0.552376            1.286           0.199\n",
       "L2.i         -0.400672         0.174987           -2.290           0.022\n",
       "L3.y         -0.016356         0.087336           -0.187           0.851\n",
       "L3.p         -0.103714         0.553656           -0.187           0.851\n",
       "L3.i          0.078225         0.177470            0.441           0.659\n",
       "L4.y         -0.232426         0.064362           -3.611           0.000\n",
       "L4.p          0.065769         0.321440            0.205           0.838\n",
       "L4.i          0.041963         0.118972            0.353           0.724\n",
       "========================================================================\n",
       "\n",
       "Results for equation p\n",
       "========================================================================\n",
       "           coefficient       std. error           t-stat            prob\n",
       "------------------------------------------------------------------------\n",
       "const         0.131128         0.052966            2.476           0.013\n",
       "L1.y         -0.026876         0.015281           -1.759           0.079\n",
       "L1.p          1.387289         0.070348           19.720           0.000\n",
       "L1.i          0.052320         0.026053            2.008           0.045\n",
       "L2.y          0.004971         0.019997            0.249           0.804\n",
       "L2.p         -0.277256         0.122037           -2.272           0.023\n",
       "L2.i          0.004562         0.038660            0.118           0.906\n",
       "L3.y          0.025393         0.019295            1.316           0.188\n",
       "L3.p         -0.201217         0.122319           -1.645           0.100\n",
       "L3.i         -0.020766         0.039208           -0.530           0.596\n",
       "L4.y         -0.017104         0.014220           -1.203           0.229\n",
       "L4.p          0.053203         0.071016            0.749           0.454\n",
       "L4.i         -0.027758         0.026285           -1.056           0.291\n",
       "========================================================================\n",
       "\n",
       "Results for equation i\n",
       "========================================================================\n",
       "           coefficient       std. error           t-stat            prob\n",
       "------------------------------------------------------------------------\n",
       "const        -0.266238         0.137347           -1.938           0.053\n",
       "L1.y          0.025961         0.039625            0.655           0.512\n",
       "L1.p          0.141164         0.182422            0.774           0.439\n",
       "L1.i          1.215883         0.067558           17.997           0.000\n",
       "L2.y          0.091212         0.051856            1.759           0.079\n",
       "L2.p         -0.523836         0.316457           -1.655           0.098\n",
       "L2.i         -0.531602         0.100250           -5.303           0.000\n",
       "L3.y         -0.055056         0.050035           -1.100           0.271\n",
       "L3.p          0.916407         0.317191            2.889           0.004\n",
       "L3.i          0.351593         0.101673            3.458           0.001\n",
       "L4.y          0.050230         0.036873            1.362           0.173\n",
       "L4.p         -0.416472         0.184154           -2.262           0.024\n",
       "L4.i         -0.128389         0.068159           -1.884           0.060\n",
       "========================================================================\n",
       "\n",
       "Correlation matrix of residuals\n",
       "            y         p         i\n",
       "y    1.000000  0.331708  0.279871\n",
       "p    0.331708  1.000000  0.248992\n",
       "i    0.279871  0.248992  1.000000\n",
       "\n"
      ]
     },
     "execution_count": 130,
     "metadata": {},
     "output_type": "execute_result"
    }
   ],
   "source": [
    "from statsmodels.tsa.api import VAR\n",
    "model = VAR(df[['y','p','i']])\n",
    "results = model.fit(4)\n",
    "results.summary()"
   ]
  },
  {
   "cell_type": "code",
   "execution_count": null,
   "id": "a9bbdcd0",
   "metadata": {},
   "outputs": [],
   "source": []
  },
  {
   "cell_type": "code",
   "execution_count": null,
   "id": "05a8f282",
   "metadata": {},
   "outputs": [],
   "source": []
  }
 ],
 "metadata": {
  "kernelspec": {
   "display_name": "Python 3 (ipykernel)",
   "language": "python",
   "name": "python3"
  },
  "language_info": {
   "codemirror_mode": {
    "name": "ipython",
    "version": 3
   },
   "file_extension": ".py",
   "mimetype": "text/x-python",
   "name": "python",
   "nbconvert_exporter": "python",
   "pygments_lexer": "ipython3",
   "version": "3.10.9"
  }
 },
 "nbformat": 4,
 "nbformat_minor": 5
}
