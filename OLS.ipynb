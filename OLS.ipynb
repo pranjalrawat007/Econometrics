{
  "nbformat": 4,
  "nbformat_minor": 0,
  "metadata": {
    "colab": {
      "name": "OLS.ipynb",
      "provenance": [],
      "authorship_tag": "ABX9TyOPGLLJAWl7KJ4jClHpsMWr",
      "include_colab_link": true
    },
    "kernelspec": {
      "name": "python3",
      "display_name": "Python 3"
    },
    "language_info": {
      "name": "python"
    }
  },
  "cells": [
    {
      "cell_type": "markdown",
      "metadata": {
        "id": "view-in-github",
        "colab_type": "text"
      },
      "source": [
        "<a href=\"https://colab.research.google.com/github/pranjalrawat007/Econometrics/blob/main/OLS.ipynb\" target=\"_parent\"><img src=\"https://colab.research.google.com/assets/colab-badge.svg\" alt=\"Open In Colab\"/></a>"
      ]
    },
    {
      "cell_type": "code",
      "metadata": {
        "id": "9pXuANWr2U36",
        "outputId": "d1ad9295-77f1-49fc-e729-49e7974e23bf",
        "colab": {
          "base_uri": "https://localhost:8080/",
          "height": 279
        }
      },
      "source": [
        "from numpy.random import normal, seed\n",
        "from numpy import dot, shape, identity, round, sqrt, var, delete, diagonal, where, zeros, array, var\n",
        "from numpy.linalg import inv, matrix_rank\n",
        "from scipy import stats\n",
        "\n",
        "# Generate Data\n",
        "seed(1)\n",
        "n, k = 100, 10\n",
        "β = normal(10, 1, (k, 1)) \n",
        "X = normal(0, 1, (n, k))\n",
        "ε = normal(0, 1, (n, 1))\n",
        "y = dot(X, β) + ε\n",
        "X[:, 0:3] = normal(0, 1, (n, 3)) # noise\n",
        "print(X.shape, y.shape)\n",
        "\n",
        "# Random Estimates\n",
        "n, k = X.shape[0], X.shape[1]\n",
        "b = normal(0, 1, (k, 1)) \n",
        "ŷ = dot(X, b)\n",
        "e = y - ŷ\n",
        "RSS = dot(e.T,e)\n",
        "print(RSS)\n",
        "\n",
        "# Least Squares\n",
        "n, k = X.shape[0], X.shape[1]\n",
        "A = inv(dot(X.T, X))\n",
        "b = dot(A, dot(X.T, y))\n",
        "ŷ = dot(X, b)\n",
        "e = y - ŷ\n",
        "RSS = dot(e.T, e)\n",
        "P = dot(dot(X, dot(X.T, X)), X.T) #Projection\n",
        "M = identity(X.shape[0]) - P # Annihilation\n",
        "TSS = dot(y.T,y) # Total Sum of Squares\n",
        "ESS = dot(ŷ.T, ŷ) # Explained Sum of Squares\n",
        "s = sqrt(RSS/(n-k)) # Estimate of SE of Unobserved\n",
        "b_V = (s ** 2) * inv(dot(X.T, X))\n",
        "b_se = diagonal(s * sqrt(where(A<0,0,A))).reshape(-1,1) # Estimate of SE of b\n",
        "t = b/b_se.reshape(-1,1)\n",
        "R2_UC = ESS/TSS # done with no intercept, to avoid less than zero R2.\n",
        "R2 =  1 - RSS/(var(y)*n) # done when intercept is included, good!\n",
        "\n",
        "# Influence of a single row\n",
        "ia = normal(0,1,(n,))\n",
        "for i in range(n):\n",
        "\tx_ = X[i, :]\n",
        "\tia[i] = dot(dot(x.T, A), x)\n",
        "\n",
        "# Hypothesis testing under Normality assumption\n",
        "# Individual tTests on Coefficients \n",
        "\n",
        "b_test = zeros((10,1)) # our guess of true Beta i.e Null Hyp\n",
        "df = n-k # degree of freedom\n",
        "tstat = (b - b_test)/b_se # t-statistic for Null Hyp\n",
        "α = 0.05 # level of signifiance\n",
        "c = stats.t.ppf(1-α/2, df) # t-critical values\n",
        "where(abs(tstat)>c,1,0) # confirm or reject\n",
        "lower_conf = b - b_se * c # Confidence intervals\n",
        "upper_conf = b + b_se * c\n",
        "\n",
        "# P-values - give true null, the prob of obtaining a more extreme t than currently obtained\n",
        "cdf_bel = stats.t.cdf(abs(tstat), df) # prob of less extreme t\n",
        "cdf_abv = 1 - cdf_bel # prob of more extreme t\n",
        "p = cdf_abv*2 # as this is a two tailed test\n",
        "round(p, 2)\n",
        "\n",
        "# Wald F-Test for systemic hypothesis \"Ho: dot(R,β) = r\"\n",
        "# our Ho: all coeffs are 0\n",
        "R = identity(10)\n",
        "r = zeros((1,10)).T\n",
        "print(R)\n",
        "print(r)\n",
        "\n",
        "t1 = dot(R,b) - r\n",
        "t2 = inv(dot(R, dot(b_varcov, R.T)))\n",
        "Fstat = dot(t1.T, dot(t2,t1))/(matrix_rank(R))\n",
        "cdf_bel = stats.f.cdf(Fstat, matrix_rank(R), n - k)\n",
        "cdf_abv = 1 - cdf_bel # one tailed test\n",
        "p = cdf_abv*2\n",
        "print(p, Fstat)\n",
        "\n",
        "# GLS\n",
        "X_V = cov(X)\n",
        "\n",
        "# Check\n",
        "from statsmodels.api import OLS\n",
        "model = sm.OLS(y, X)\n",
        "result = model.fit()\n",
        "result.summary()\n",
        "\n",
        "R2"
      ],
      "execution_count": 1,
      "outputs": [
        {
          "output_type": "stream",
          "name": "stdout",
          "text": [
            "(100, 10) (100, 1)\n",
            "[[78970.36727346]]\n"
          ]
        },
        {
          "output_type": "error",
          "ename": "NameError",
          "evalue": "ignored",
          "traceback": [
            "\u001b[0;31m---------------------------------------------------------------------------\u001b[0m",
            "\u001b[0;31mNameError\u001b[0m                                 Traceback (most recent call last)",
            "\u001b[0;32m<ipython-input-1-c812f76d7026>\u001b[0m in \u001b[0;36m<module>\u001b[0;34m()\u001b[0m\n\u001b[1;32m     44\u001b[0m \u001b[0;32mfor\u001b[0m \u001b[0mi\u001b[0m \u001b[0;32min\u001b[0m \u001b[0mrange\u001b[0m\u001b[0;34m(\u001b[0m\u001b[0mn\u001b[0m\u001b[0;34m)\u001b[0m\u001b[0;34m:\u001b[0m\u001b[0;34m\u001b[0m\u001b[0;34m\u001b[0m\u001b[0m\n\u001b[1;32m     45\u001b[0m         \u001b[0mx_\u001b[0m \u001b[0;34m=\u001b[0m \u001b[0mX\u001b[0m\u001b[0;34m[\u001b[0m\u001b[0mi\u001b[0m\u001b[0;34m,\u001b[0m \u001b[0;34m:\u001b[0m\u001b[0;34m]\u001b[0m\u001b[0;34m\u001b[0m\u001b[0;34m\u001b[0m\u001b[0m\n\u001b[0;32m---> 46\u001b[0;31m         \u001b[0mia\u001b[0m\u001b[0;34m[\u001b[0m\u001b[0mi\u001b[0m\u001b[0;34m]\u001b[0m \u001b[0;34m=\u001b[0m \u001b[0mdot\u001b[0m\u001b[0;34m(\u001b[0m\u001b[0mdot\u001b[0m\u001b[0;34m(\u001b[0m\u001b[0mx\u001b[0m\u001b[0;34m.\u001b[0m\u001b[0mT\u001b[0m\u001b[0;34m,\u001b[0m \u001b[0mA\u001b[0m\u001b[0;34m)\u001b[0m\u001b[0;34m,\u001b[0m \u001b[0mx\u001b[0m\u001b[0;34m)\u001b[0m\u001b[0;34m\u001b[0m\u001b[0;34m\u001b[0m\u001b[0m\n\u001b[0m\u001b[1;32m     47\u001b[0m \u001b[0;34m\u001b[0m\u001b[0m\n\u001b[1;32m     48\u001b[0m \u001b[0;31m# Hypothesis testing under Normality assumption\u001b[0m\u001b[0;34m\u001b[0m\u001b[0;34m\u001b[0m\u001b[0;34m\u001b[0m\u001b[0m\n",
            "\u001b[0;31mNameError\u001b[0m: name 'x' is not defined"
          ]
        }
      ]
    },
    {
      "cell_type": "code",
      "metadata": {
        "id": "nGbaiNjS2Wbl"
      },
      "source": [
        ""
      ],
      "execution_count": null,
      "outputs": []
    }
  ]
}