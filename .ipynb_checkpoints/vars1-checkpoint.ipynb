{
 "cells": [
  {
   "cell_type": "code",
   "execution_count": 46,
   "id": "9bdc0f7b",
   "metadata": {},
   "outputs": [],
   "source": [
    "import pandas_datareader.data as web    # pandas 0.19.x and later\n",
    "import statsmodels.api as sm\n",
    "import statsmodels.formula.api as smf\n",
    "import pandas as pd\n",
    "import numpy as np\n",
    "import datetime\n",
    "import plotly.io as pio\n",
    "pio.renderers.default = 'iframe'\n",
    "import plotly.express as px"
   ]
  },
  {
   "cell_type": "code",
   "execution_count": 47,
   "id": "98041d95",
   "metadata": {},
   "outputs": [
    {
     "data": {
      "text/html": [
       "<div>\n",
       "<style scoped>\n",
       "    .dataframe tbody tr th:only-of-type {\n",
       "        vertical-align: middle;\n",
       "    }\n",
       "\n",
       "    .dataframe tbody tr th {\n",
       "        vertical-align: top;\n",
       "    }\n",
       "\n",
       "    .dataframe thead th {\n",
       "        text-align: right;\n",
       "    }\n",
       "</style>\n",
       "<table border=\"1\" class=\"dataframe\">\n",
       "  <thead>\n",
       "    <tr style=\"text-align: right;\">\n",
       "      <th></th>\n",
       "      <th>y</th>\n",
       "      <th>p</th>\n",
       "      <th>i</th>\n",
       "      <th>t</th>\n",
       "    </tr>\n",
       "    <tr>\n",
       "      <th>DATE</th>\n",
       "      <th></th>\n",
       "      <th></th>\n",
       "      <th></th>\n",
       "      <th></th>\n",
       "    </tr>\n",
       "  </thead>\n",
       "  <tbody>\n",
       "    <tr>\n",
       "      <th>1960-01-01</th>\n",
       "      <td>4.9</td>\n",
       "      <td>2.1</td>\n",
       "      <td>3.933333</td>\n",
       "      <td>0</td>\n",
       "    </tr>\n",
       "    <tr>\n",
       "      <th>1960-04-01</th>\n",
       "      <td>2.1</td>\n",
       "      <td>2.0</td>\n",
       "      <td>3.696667</td>\n",
       "      <td>1</td>\n",
       "    </tr>\n",
       "    <tr>\n",
       "      <th>1960-07-01</th>\n",
       "      <td>2.5</td>\n",
       "      <td>1.7</td>\n",
       "      <td>2.936667</td>\n",
       "      <td>2</td>\n",
       "    </tr>\n",
       "    <tr>\n",
       "      <th>1960-10-01</th>\n",
       "      <td>0.9</td>\n",
       "      <td>1.4</td>\n",
       "      <td>2.296667</td>\n",
       "      <td>3</td>\n",
       "    </tr>\n",
       "    <tr>\n",
       "      <th>1961-01-01</th>\n",
       "      <td>-0.7</td>\n",
       "      <td>1.3</td>\n",
       "      <td>2.003333</td>\n",
       "      <td>4</td>\n",
       "    </tr>\n",
       "  </tbody>\n",
       "</table>\n",
       "</div>"
      ],
      "text/plain": [
       "              y    p         i  t\n",
       "DATE                             \n",
       "1960-01-01  4.9  2.1  3.933333  0\n",
       "1960-04-01  2.1  2.0  3.696667  1\n",
       "1960-07-01  2.5  1.7  2.936667  2\n",
       "1960-10-01  0.9  1.4  2.296667  3\n",
       "1961-01-01 -0.7  1.3  2.003333  4"
      ]
     },
     "execution_count": 47,
     "metadata": {},
     "output_type": "execute_result"
    }
   ],
   "source": [
    "start = datetime.datetime(1960, 1, 1)\n",
    "end = datetime.datetime(2023, 1, 27)\n",
    "df = pd.DataFrame([])\n",
    "df['y'] = web.DataReader(\"A191RO1Q156NBEA\", \"fred\", start, end)\n",
    "df['p'] = web.DataReader(\"BPCCRO1Q156NBEA\", \"fred\", start, end)\n",
    "df['i'] = web.DataReader(\"FEDFUNDS\", \"fred\", start, end).resample('QS').mean()\n",
    "df['t'] = np.array(range(df.shape[0]))\n",
    "df.head()"
   ]
  },
  {
   "cell_type": "code",
   "execution_count": 48,
   "id": "e421bde5",
   "metadata": {},
   "outputs": [
    {
     "data": {
      "text/html": [
       "<iframe\n",
       "    scrolling=\"no\"\n",
       "    width=\"100%\"\n",
       "    height=\"545px\"\n",
       "    src=\"iframe_figures/figure_48.html\"\n",
       "    frameborder=\"0\"\n",
       "    allowfullscreen\n",
       "></iframe>\n"
      ]
     },
     "metadata": {},
     "output_type": "display_data"
    }
   ],
   "source": [
    "px.line(y=[df.y,df.p,df.i],x=df.t)"
   ]
  },
  {
   "cell_type": "code",
   "execution_count": 49,
   "id": "49f806ba",
   "metadata": {},
   "outputs": [],
   "source": [
    "lags = 4\n",
    "for i in range(1,lags):\n",
    "    name = 'y.'+str(i)\n",
    "    df[name] = df.y.shift(i)\n",
    "    name = 'p.'+str(i)\n",
    "    df[name] = df.p.shift(i)\n",
    "    name = 'i.'+str(i)\n",
    "    df[name] = df.i.shift(i)\n",
    "df = df.iloc[i:]"
   ]
  },
  {
   "cell_type": "markdown",
   "id": "918f2fe1",
   "metadata": {},
   "source": [
    "### System OLS"
   ]
  },
  {
   "cell_type": "code",
   "execution_count": 78,
   "id": "254596eb",
   "metadata": {},
   "outputs": [
    {
     "data": {
      "text/plain": [
       "array([[ 1.0067702 ,  0.10583668, -0.31643254],\n",
       "       [ 0.84803824, -0.02298924,  0.01109639],\n",
       "       [ 0.08235247,  0.00925516,  0.07819583],\n",
       "       [-0.21149859,  0.00825242,  0.02449901],\n",
       "       [-0.82351805,  1.38959996,  0.29177324],\n",
       "       [ 0.76947779, -0.30261855, -0.46445895],\n",
       "       [ 0.02758298, -0.12589682,  0.30769918],\n",
       "       [ 0.26518902,  0.04582209,  1.17439349],\n",
       "       [-0.41508089,  0.0133446 , -0.46123813],\n",
       "       [ 0.13482773, -0.05025137,  0.1914963 ]])"
      ]
     },
     "execution_count": 78,
     "metadata": {},
     "output_type": "execute_result"
    }
   ],
   "source": [
    "Y = df[['y','p','i']].to_numpy()\n",
    "X1 = df.filter(regex=(\"y.*\"))\n",
    "X2 = df.filter(regex=(\"p.*\"))\n",
    "X3 = df.filter(regex=(\"i.*\"))\n",
    "X = np.c_[np.ones(X1.shape[0]),X1.iloc[:,1:],X2.iloc[:,1:],X3.iloc[:,1:]]\n",
    "θ_hat = np.dot(np.linalg.inv(np.dot(X.T,X)),np.dot(X.T,Y))\n",
    "θ_hat"
   ]
  },
  {
   "cell_type": "markdown",
   "id": "3cbf155d",
   "metadata": {},
   "source": [
    "### Equation by Equation"
   ]
  },
  {
   "cell_type": "code",
   "execution_count": 80,
   "id": "d8322330",
   "metadata": {},
   "outputs": [
    {
     "data": {
      "text/plain": [
       "[array([ 1. ,  0.8,  0.1, -0.2, -0.8,  0.8,  0. ,  0.3, -0.4,  0.1]),\n",
       " array([ 0.1, -0. ,  0. ,  0. ,  1.4, -0.3, -0.1,  0. ,  0. , -0.1]),\n",
       " array([-0.3,  0. ,  0.1,  0. ,  0.3, -0.5,  0.3,  1.2, -0.5,  0.2])]"
      ]
     },
     "execution_count": 80,
     "metadata": {},
     "output_type": "execute_result"
    }
   ],
   "source": [
    "ys = ['y','p','i']\n",
    "θs = []\n",
    "for i in ys:\n",
    "    y = df[i].to_numpy()\n",
    "    x = X \n",
    "    θ = np.dot(np.linalg.inv(np.dot(x.T,x)),np.dot(x.T,y))\n",
    "    θs.append(np.round(θ,1))\n",
    "θs  "
   ]
  },
  {
   "cell_type": "code",
   "execution_count": 100,
   "id": "80f25454",
   "metadata": {},
   "outputs": [
    {
     "name": "stdout",
     "output_type": "stream",
     "text": [
      "Correlation of residuals\n"
     ]
    },
    {
     "data": {
      "text/plain": [
       "array([[1.        , 0.33550329, 0.24988117],\n",
       "       [0.33550329, 1.        , 0.2408855 ],\n",
       "       [0.24988117, 0.2408855 , 1.        ]])"
      ]
     },
     "execution_count": 100,
     "metadata": {},
     "output_type": "execute_result"
    }
   ],
   "source": [
    "e = Y- np.dot(X, θ_hat)\n",
    "print('Correlation of residuals')\n",
    "np.corrcoef([e[:,0],e[:,1],e[:,2]])"
   ]
  },
  {
   "cell_type": "code",
   "execution_count": 117,
   "id": "1632f686",
   "metadata": {},
   "outputs": [
    {
     "data": {
      "text/plain": [
       "(249, 3)"
      ]
     },
     "execution_count": 117,
     "metadata": {},
     "output_type": "execute_result"
    }
   ],
   "source": [
    "np.cross(e,e).shape"
   ]
  },
  {
   "cell_type": "code",
   "execution_count": 103,
   "id": "2bd27aeb",
   "metadata": {},
   "outputs": [
    {
     "data": {
      "text/plain": [
       "array([[1.95198353, 0.14034658, 0.27497592],\n",
       "       [0.14034658, 0.08964663, 0.05680685],\n",
       "       [0.27497592, 0.05680685, 0.6203633 ]])"
      ]
     },
     "execution_count": 103,
     "metadata": {},
     "output_type": "execute_result"
    }
   ],
   "source": [
    "Σ_hat = (1/X.shape[0])*np.dot(e.T,e)\n",
    "θ_Var = np.dot(Σ_hat,np.linalg.inv(np.dot(X.T, X)))"
   ]
  },
  {
   "cell_type": "code",
   "execution_count": 86,
   "id": "61ee747d",
   "metadata": {},
   "outputs": [
    {
     "data": {
      "text/plain": [
       "array([[1.95198353, 0.14034658, 0.27497592],\n",
       "       [0.14034658, 0.08964663, 0.05680685],\n",
       "       [0.27497592, 0.05680685, 0.6203633 ]])"
      ]
     },
     "execution_count": 86,
     "metadata": {},
     "output_type": "execute_result"
    }
   ],
   "source": [
    "e = Y- np.dot(X, θ_hat)\n",
    "Σ_hat = (1/X.shape[0])*np.dot(e.T,e)\n",
    "#θ_Var = np.dot(Σ_hat,np.linalg.inv(np.dot(X.T, X)))\n",
    "Σ_hat"
   ]
  },
  {
   "cell_type": "markdown",
   "id": "21b86aa7",
   "metadata": {},
   "source": [
    "### Canned Solution"
   ]
  },
  {
   "cell_type": "code",
   "execution_count": 81,
   "id": "72510365",
   "metadata": {},
   "outputs": [
    {
     "name": "stderr",
     "output_type": "stream",
     "text": [
      "/usr/local/lib/python3.10/site-packages/statsmodels/tsa/base/tsa_model.py:471: ValueWarning:\n",
      "\n",
      "No frequency information was provided, so inferred frequency QS-OCT will be used.\n",
      "\n"
     ]
    },
    {
     "data": {
      "text/plain": [
       "  Summary of Regression Results   \n",
       "==================================\n",
       "Model:                         VAR\n",
       "Method:                        OLS\n",
       "Date:           Sat, 18, Feb, 2023\n",
       "Time:                     01:52:44\n",
       "--------------------------------------------------------------------\n",
       "No. of Equations:         3.00000    BIC:                   -1.66299\n",
       "Nobs:                     245.000    HQIC:                  -1.99589\n",
       "Log likelihood:          -731.929    FPE:                   0.108605\n",
       "AIC:                     -2.22034    Det(Omega_mle):       0.0930015\n",
       "--------------------------------------------------------------------\n",
       "Results for equation y\n",
       "========================================================================\n",
       "           coefficient       std. error           t-stat            prob\n",
       "------------------------------------------------------------------------\n",
       "const         1.221343         0.239739            5.094           0.000\n",
       "L1.y          0.786717         0.069165           11.374           0.000\n",
       "L1.p         -0.738560         0.318418           -2.319           0.020\n",
       "L1.i          0.294774         0.117923            2.500           0.012\n",
       "L2.y          0.105946         0.090515            1.170           0.242\n",
       "L2.p          0.710209         0.552376            1.286           0.199\n",
       "L2.i         -0.400672         0.174987           -2.290           0.022\n",
       "L3.y         -0.016356         0.087336           -0.187           0.851\n",
       "L3.p         -0.103714         0.553656           -0.187           0.851\n",
       "L3.i          0.078225         0.177470            0.441           0.659\n",
       "L4.y         -0.232426         0.064362           -3.611           0.000\n",
       "L4.p          0.065769         0.321440            0.205           0.838\n",
       "L4.i          0.041963         0.118972            0.353           0.724\n",
       "========================================================================\n",
       "\n",
       "Results for equation p\n",
       "========================================================================\n",
       "           coefficient       std. error           t-stat            prob\n",
       "------------------------------------------------------------------------\n",
       "const         0.131128         0.052966            2.476           0.013\n",
       "L1.y         -0.026876         0.015281           -1.759           0.079\n",
       "L1.p          1.387289         0.070348           19.720           0.000\n",
       "L1.i          0.052320         0.026053            2.008           0.045\n",
       "L2.y          0.004971         0.019997            0.249           0.804\n",
       "L2.p         -0.277256         0.122037           -2.272           0.023\n",
       "L2.i          0.004562         0.038660            0.118           0.906\n",
       "L3.y          0.025393         0.019295            1.316           0.188\n",
       "L3.p         -0.201217         0.122319           -1.645           0.100\n",
       "L3.i         -0.020766         0.039208           -0.530           0.596\n",
       "L4.y         -0.017104         0.014220           -1.203           0.229\n",
       "L4.p          0.053203         0.071016            0.749           0.454\n",
       "L4.i         -0.027758         0.026285           -1.056           0.291\n",
       "========================================================================\n",
       "\n",
       "Results for equation i\n",
       "========================================================================\n",
       "           coefficient       std. error           t-stat            prob\n",
       "------------------------------------------------------------------------\n",
       "const        -0.266238         0.137347           -1.938           0.053\n",
       "L1.y          0.025961         0.039625            0.655           0.512\n",
       "L1.p          0.141164         0.182422            0.774           0.439\n",
       "L1.i          1.215883         0.067558           17.997           0.000\n",
       "L2.y          0.091212         0.051856            1.759           0.079\n",
       "L2.p         -0.523836         0.316457           -1.655           0.098\n",
       "L2.i         -0.531602         0.100250           -5.303           0.000\n",
       "L3.y         -0.055056         0.050035           -1.100           0.271\n",
       "L3.p          0.916407         0.317191            2.889           0.004\n",
       "L3.i          0.351593         0.101673            3.458           0.001\n",
       "L4.y          0.050230         0.036873            1.362           0.173\n",
       "L4.p         -0.416472         0.184154           -2.262           0.024\n",
       "L4.i         -0.128389         0.068159           -1.884           0.060\n",
       "========================================================================\n",
       "\n",
       "Correlation matrix of residuals\n",
       "            y         p         i\n",
       "y    1.000000  0.331708  0.279871\n",
       "p    0.331708  1.000000  0.248992\n",
       "i    0.279871  0.248992  1.000000\n",
       "\n"
      ]
     },
     "execution_count": 81,
     "metadata": {},
     "output_type": "execute_result"
    }
   ],
   "source": [
    "from statsmodels.tsa.api import VAR\n",
    "model = VAR(df[['y','p','i']])\n",
    "results = model.fit(4)\n",
    "results.summary()"
   ]
  },
  {
   "cell_type": "code",
   "execution_count": null,
   "id": "4891875a",
   "metadata": {},
   "outputs": [],
   "source": []
  }
 ],
 "metadata": {
  "kernelspec": {
   "display_name": "Python 3 (ipykernel)",
   "language": "python",
   "name": "python3"
  },
  "language_info": {
   "codemirror_mode": {
    "name": "ipython",
    "version": 3
   },
   "file_extension": ".py",
   "mimetype": "text/x-python",
   "name": "python",
   "nbconvert_exporter": "python",
   "pygments_lexer": "ipython3",
   "version": "3.10.9"
  }
 },
 "nbformat": 4,
 "nbformat_minor": 5
}
