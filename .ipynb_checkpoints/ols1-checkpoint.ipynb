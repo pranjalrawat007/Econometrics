{
 "cells": [
  {
   "cell_type": "markdown",
   "metadata": {
    "colab_type": "text",
    "id": "view-in-github"
   },
   "source": [
    "<a href=\"https://colab.research.google.com/github/pranjalrawat007/Econometrics/blob/main/OLS.ipynb\" target=\"_parent\"><img src=\"https://colab.research.google.com/assets/colab-badge.svg\" alt=\"Open In Colab\"/></a>"
   ]
  },
  {
   "cell_type": "code",
   "execution_count": 8,
   "metadata": {
    "colab": {
     "base_uri": "https://localhost:8080/",
     "height": 279
    },
    "id": "9pXuANWr2U36",
    "outputId": "d1ad9295-77f1-49fc-e729-49e7974e23bf"
   },
   "outputs": [
    {
     "name": "stdout",
     "output_type": "stream",
     "text": [
      "(100, 10) (100, 1)\n",
      "[[78970.36727346]]\n",
      "[[1. 0. 0. 0. 0. 0. 0. 0. 0. 0.]\n",
      " [0. 1. 0. 0. 0. 0. 0. 0. 0. 0.]\n",
      " [0. 0. 1. 0. 0. 0. 0. 0. 0. 0.]\n",
      " [0. 0. 0. 1. 0. 0. 0. 0. 0. 0.]\n",
      " [0. 0. 0. 0. 1. 0. 0. 0. 0. 0.]\n",
      " [0. 0. 0. 0. 0. 1. 0. 0. 0. 0.]\n",
      " [0. 0. 0. 0. 0. 0. 1. 0. 0. 0.]\n",
      " [0. 0. 0. 0. 0. 0. 0. 1. 0. 0.]\n",
      " [0. 0. 0. 0. 0. 0. 0. 0. 1. 0.]\n",
      " [0. 0. 0. 0. 0. 0. 0. 0. 0. 1.]]\n",
      "[[0.]\n",
      " [0.]\n",
      " [0.]\n",
      " [0.]\n",
      " [0.]\n",
      " [0.]\n",
      " [0.]\n",
      " [0.]\n",
      " [0.]\n",
      " [0.]]\n",
      "[[2.22044605e-16]] [[17.97189094]]\n"
     ]
    },
    {
     "data": {
      "text/plain": [
       "array([[0.66077908]])"
      ]
     },
     "execution_count": 8,
     "metadata": {},
     "output_type": "execute_result"
    }
   ],
   "source": [
    "from numpy.random import normal, seed\n",
    "from numpy import dot, shape, identity, round, sqrt, var, delete, diagonal, where, zeros, array, var\n",
    "from numpy.linalg import inv, matrix_rank\n",
    "from scipy import stats\n",
    "import numpy as np\n",
    "\n",
    "# Generate Data\n",
    "seed(1)\n",
    "n, k = 100, 10\n",
    "β = normal(10, 1, (k, 1)) \n",
    "X = normal(0, 1, (n, k))\n",
    "ε = normal(0, 1, (n, 1))\n",
    "y = dot(X, β) + ε\n",
    "X[:, 0:3] = normal(0, 1, (n, 3)) # noise\n",
    "print(X.shape, y.shape)\n",
    "\n",
    "# Random Estimates\n",
    "n, k = X.shape[0], X.shape[1]\n",
    "b = normal(0, 1, (k, 1)) \n",
    "ŷ = dot(X, b)\n",
    "e = y - ŷ\n",
    "RSS = dot(e.T,e)\n",
    "print(RSS)\n",
    "\n",
    "# Least Squares\n",
    "n, k = X.shape[0], X.shape[1]\n",
    "A = inv(dot(X.T, X))\n",
    "b = dot(A, dot(X.T, y))\n",
    "ŷ = dot(X, b)\n",
    "e = y - ŷ\n",
    "RSS = dot(e.T, e)\n",
    "P = dot(dot(X, dot(X.T, X)), X.T) #Projection\n",
    "M = identity(X.shape[0]) - P # Annihilation\n",
    "TSS = dot(y.T,y) # Total Sum of Squares\n",
    "ESS = dot(ŷ.T, ŷ) # Explained Sum of Squares\n",
    "s = sqrt(RSS/(n-k)) # Estimate of SE of Unobserved\n",
    "b_V = (s ** 2) * inv(dot(X.T, X))\n",
    "b_se = diagonal(s * sqrt(where(A<0,0,A))).reshape(-1,1) # Estimate of SE of b\n",
    "t = b/b_se.reshape(-1,1)\n",
    "R2_UC = ESS/TSS # done with no intercept, to avoid less than zero R2.\n",
    "R2 =  1 - RSS/(var(y)*n) # done when intercept is included, good!\n",
    "\n",
    "# Influence of a single row\n",
    "ia = normal(0,1,(n,))\n",
    "for i in range(n):\n",
    "\tx = X[i, :]\n",
    "\tia[i] = dot(dot(x.T, A), x)\n",
    "\n",
    "# Hypothesis testing under Normality assumption\n",
    "# Individual tTests on Coefficients \n",
    "b_test = zeros((10,1)) # our guess of true Beta i.e Null Hyp\n",
    "df = n-k # degree of freedom\n",
    "tstat = (b - b_test)/b_se # t-statistic for Null Hyp\n",
    "α = 0.05 # level of signifiance\n",
    "c = stats.t.ppf(1-α/2, df) # t-critical values\n",
    "where(abs(tstat)>c,1,0) # confirm or reject\n",
    "lower_conf = b - b_se * c # Confidence intervals\n",
    "upper_conf = b + b_se * c\n",
    "\n",
    "# P-values - give true null, the prob of obtaining a more extreme t than currently obtained\n",
    "cdf_bel = stats.t.cdf(abs(tstat), df) # prob of less extreme t\n",
    "cdf_abv = 1 - cdf_bel # prob of more extreme t\n",
    "p = cdf_abv*2 # as this is a two tailed test\n",
    "round(p, 2)\n",
    "\n",
    "# Wald F-Test for systemic hypothesis \"Ho: dot(R,β) = r\"\n",
    "# our Ho: all coeffs are 0\n",
    "R = identity(10)\n",
    "r = zeros((1,10)).T\n",
    "print(R)\n",
    "print(r)\n",
    "\n",
    "t1 = dot(R,b) - r\n",
    "t2 = inv(dot(R, dot(b_V, R.T)))\n",
    "Fstat = dot(t1.T, dot(t2,t1))/(matrix_rank(R))\n",
    "cdf_bel = stats.f.cdf(Fstat, matrix_rank(R), n - k)\n",
    "cdf_abv = 1 - cdf_bel # one tailed test\n",
    "p = cdf_abv*2\n",
    "print(p, Fstat)\n",
    "\n",
    "# GLS\n",
    "X_V = np.cov(X)\n",
    "\n",
    "# Check\n",
    "from statsmodels.api import OLS\n",
    "model = OLS(y, X)\n",
    "result = model.fit()\n",
    "result.summary()\n",
    "R2"
   ]
  },
  {
   "cell_type": "code",
   "execution_count": 6,
   "metadata": {
    "id": "nGbaiNjS2Wbl"
   },
   "outputs": [],
   "source": [
    "import numpy as np"
   ]
  },
  {
   "cell_type": "code",
   "execution_count": null,
   "metadata": {},
   "outputs": [],
   "source": []
  }
 ],
 "metadata": {
  "colab": {
   "authorship_tag": "ABX9TyOPGLLJAWl7KJ4jClHpsMWr",
   "include_colab_link": true,
   "name": "OLS.ipynb",
   "provenance": []
  },
  "kernelspec": {
   "display_name": "Python 3 (ipykernel)",
   "language": "python",
   "name": "python3"
  },
  "language_info": {
   "codemirror_mode": {
    "name": "ipython",
    "version": 3
   },
   "file_extension": ".py",
   "mimetype": "text/x-python",
   "name": "python",
   "nbconvert_exporter": "python",
   "pygments_lexer": "ipython3",
   "version": "3.10.9"
  }
 },
 "nbformat": 4,
 "nbformat_minor": 1
}
