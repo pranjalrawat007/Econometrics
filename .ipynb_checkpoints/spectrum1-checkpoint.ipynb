{
 "cells": [
  {
   "cell_type": "code",
   "execution_count": 1,
   "id": "7e28e2ca",
   "metadata": {},
   "outputs": [],
   "source": [
    "import pandas_datareader.data as web    \n",
    "import statsmodels.api as sm\n",
    "import statsmodels.formula.api as smf\n",
    "import pandas as pd\n",
    "import numpy as np\n",
    "import datetime\n",
    "import plotly.io as pio\n",
    "pio.renderers.default = 'iframe'\n",
    "import plotly.express as px"
   ]
  },
  {
   "cell_type": "markdown",
   "id": "f05ee95c",
   "metadata": {},
   "source": [
    "### Cyclical Model"
   ]
  },
  {
   "cell_type": "code",
   "execution_count": 3,
   "id": "7102ad7f",
   "metadata": {},
   "outputs": [],
   "source": [
    "T = np.arange(100)\n",
    "\n",
    "def model(a, ω, θ, T):\n",
    "    Y = 2*a*np.cos(ω*T+θ)\n",
    "    return Y"
   ]
  },
  {
   "cell_type": "code",
   "execution_count": 4,
   "id": "22ff691f",
   "metadata": {},
   "outputs": [
    {
     "data": {
      "text/html": [
       "<iframe\n",
       "    scrolling=\"no\"\n",
       "    width=\"100%\"\n",
       "    height=\"545px\"\n",
       "    src=\"iframe_figures/figure_4.html\"\n",
       "    frameborder=\"0\"\n",
       "    allowfullscreen\n",
       "></iframe>\n"
      ]
     },
     "metadata": {},
     "output_type": "display_data"
    }
   ],
   "source": [
    "# Phase Shift\n",
    "px.line(y=[model(1, 0.2, 0, T), model(1, 0.2, 0.4, T)],x=T)"
   ]
  },
  {
   "cell_type": "code",
   "execution_count": 5,
   "id": "0d4988c8",
   "metadata": {},
   "outputs": [
    {
     "data": {
      "text/html": [
       "<iframe\n",
       "    scrolling=\"no\"\n",
       "    width=\"100%\"\n",
       "    height=\"545px\"\n",
       "    src=\"iframe_figures/figure_5.html\"\n",
       "    frameborder=\"0\"\n",
       "    allowfullscreen\n",
       "></iframe>\n"
      ]
     },
     "metadata": {},
     "output_type": "display_data"
    }
   ],
   "source": [
    "# Frequency\n",
    "px.line(y=[model(1, 0.2, 0, T), model(1, 0.5, 0, T)],x=T)"
   ]
  },
  {
   "cell_type": "code",
   "execution_count": 6,
   "id": "900ed183",
   "metadata": {},
   "outputs": [
    {
     "data": {
      "text/html": [
       "<iframe\n",
       "    scrolling=\"no\"\n",
       "    width=\"100%\"\n",
       "    height=\"545px\"\n",
       "    src=\"iframe_figures/figure_6.html\"\n",
       "    frameborder=\"0\"\n",
       "    allowfullscreen\n",
       "></iframe>\n"
      ]
     },
     "metadata": {},
     "output_type": "display_data"
    }
   ],
   "source": [
    "# Amplitude\n",
    "px.line(y=[model(1, 0.2, 0, T), model(2, 0.2, 0, T)],x=T)"
   ]
  },
  {
   "cell_type": "markdown",
   "id": "fe12e07e",
   "metadata": {},
   "source": [
    "### Shrumpeter's Model: Additive Model with multiple cycles"
   ]
  },
  {
   "cell_type": "code",
   "execution_count": 19,
   "id": "2c4ed288",
   "metadata": {},
   "outputs": [
    {
     "data": {
      "text/html": [
       "<iframe\n",
       "    scrolling=\"no\"\n",
       "    width=\"100%\"\n",
       "    height=\"545px\"\n",
       "    src=\"iframe_figures/figure_19.html\"\n",
       "    frameborder=\"0\"\n",
       "    allowfullscreen\n",
       "></iframe>\n"
      ]
     },
     "metadata": {},
     "output_type": "display_data"
    }
   ],
   "source": [
    "T = np.arange(1000)\n",
    "\n",
    "def model2(a, ω, θ, T):\n",
    "    Y = np.zeros(T.shape)\n",
    "    for i in range(len(a)):\n",
    "        Y += model(a[i], ω[i], θ[i], T)\n",
    "    return Y\n",
    "\n",
    "a = [5,2,1]\n",
    "ω = [0.03, 0.20, 0.47]\n",
    "θ = [0,0,0]\n",
    "px.line(y=[model2(a, ω, θ, T)],x=T)"
   ]
  },
  {
   "cell_type": "code",
   "execution_count": 20,
   "id": "0015f15b",
   "metadata": {},
   "outputs": [
    {
     "data": {
      "text/html": [
       "<iframe\n",
       "    scrolling=\"no\"\n",
       "    width=\"100%\"\n",
       "    height=\"545px\"\n",
       "    src=\"iframe_figures/figure_20.html\"\n",
       "    frameborder=\"0\"\n",
       "    allowfullscreen\n",
       "></iframe>\n"
      ]
     },
     "metadata": {},
     "output_type": "display_data"
    }
   ],
   "source": [
    "# Spectrum\n",
    "px.scatter(y=[i**2 for i in a],x=ω)    "
   ]
  },
  {
   "cell_type": "markdown",
   "id": "54d2de65",
   "metadata": {},
   "source": [
    "### Periodogram - finding dominant frequencies"
   ]
  },
  {
   "cell_type": "code",
   "execution_count": 21,
   "id": "f8162ec9",
   "metadata": {},
   "outputs": [
    {
     "data": {
      "text/html": [
       "<iframe\n",
       "    scrolling=\"no\"\n",
       "    width=\"100%\"\n",
       "    height=\"545px\"\n",
       "    src=\"iframe_figures/figure_21.html\"\n",
       "    frameborder=\"0\"\n",
       "    allowfullscreen\n",
       "></iframe>\n"
      ]
     },
     "metadata": {},
     "output_type": "display_data"
    }
   ],
   "source": [
    "from scipy.signal import periodogram\n",
    "y = model2(a, ω, θ, T)\n",
    "f, P = periodogram(y)\n",
    "px.line(y=P,x=f)"
   ]
  },
  {
   "cell_type": "markdown",
   "id": "8d8c5782",
   "metadata": {},
   "source": [
    "### Filtering - Band pass filter removes certain frequencies"
   ]
  },
  {
   "cell_type": "code",
   "execution_count": 23,
   "id": "0a466965",
   "metadata": {},
   "outputs": [
    {
     "data": {
      "text/html": [
       "<iframe\n",
       "    scrolling=\"no\"\n",
       "    width=\"100%\"\n",
       "    height=\"545px\"\n",
       "    src=\"iframe_figures/figure_23.html\"\n",
       "    frameborder=\"0\"\n",
       "    allowfullscreen\n",
       "></iframe>\n"
      ]
     },
     "metadata": {},
     "output_type": "display_data"
    }
   ],
   "source": [
    "# 1 Hertz is 1 cycle per unit time. \n",
    "# Original series has 10 and 20 Hz of cycles in it\n",
    "# Filtered series has only 10 Hz of cycles in it\n",
    "T = np.linspace(0, 1, 1000, False)\n",
    "y = np.sin(2*np.pi*10*T) + np.sin(2*np.pi*20*T)\n",
    "\n",
    "band = signal.butter(10, 15, 'hp', fs=1000, output='sos')\n",
    "y_filtered = signal.sosfilt(band, y)\n",
    "px.line(y=[y_filtered,y],x=T)"
   ]
  },
  {
   "cell_type": "markdown",
   "id": "5cdf2c92",
   "metadata": {},
   "source": [
    "#### Band Pass"
   ]
  },
  {
   "cell_type": "code",
   "execution_count": 24,
   "id": "050de00c",
   "metadata": {},
   "outputs": [
    {
     "data": {
      "text/html": [
       "<iframe\n",
       "    scrolling=\"no\"\n",
       "    width=\"100%\"\n",
       "    height=\"545px\"\n",
       "    src=\"iframe_figures/figure_24.html\"\n",
       "    frameborder=\"0\"\n",
       "    allowfullscreen\n",
       "></iframe>\n"
      ]
     },
     "metadata": {},
     "output_type": "display_data"
    }
   ],
   "source": [
    "# Band pass filter: elminating frequencies from 0.1 to 0.3\n",
    "T = np.arange(1000)\n",
    "y = model2(a, ω, θ, T)\n",
    "f1, f2 = 0.1, 0.3\n",
    "numtaps = 1000\n",
    "signal.firwin(numtaps, [f1, f2], pass_zero=False)\n",
    "y_filtered = signal.sosfilt(band, y)\n",
    "px.line(y=[y_filtered,y],x=T)"
   ]
  },
  {
   "cell_type": "markdown",
   "id": "ae9395bb",
   "metadata": {},
   "source": [
    "#### HP Filter"
   ]
  },
  {
   "cell_type": "code",
   "execution_count": 25,
   "id": "38113a25",
   "metadata": {},
   "outputs": [
    {
     "data": {
      "text/html": [
       "<iframe\n",
       "    scrolling=\"no\"\n",
       "    width=\"100%\"\n",
       "    height=\"545px\"\n",
       "    src=\"iframe_figures/figure_25.html\"\n",
       "    frameborder=\"0\"\n",
       "    allowfullscreen\n",
       "></iframe>\n"
      ]
     },
     "metadata": {},
     "output_type": "display_data"
    }
   ],
   "source": [
    "# HP Filter\n",
    "T = np.arange(1000)\n",
    "y = model2(a, ω, θ, T)\n",
    "\n",
    "import statsmodels.api as sm\n",
    "y_cycles, y_trend = sm.tsa.filters.hpfilter(y, 1600)\n",
    "px.line(y=[y_trend,y, y_cycles],x=T)"
   ]
  },
  {
   "cell_type": "markdown",
   "id": "c451662e",
   "metadata": {},
   "source": [
    "### US Business Cycles - Hours Worked "
   ]
  },
  {
   "cell_type": "code",
   "execution_count": 26,
   "id": "790c2f0e",
   "metadata": {},
   "outputs": [
    {
     "data": {
      "text/html": [
       "<iframe\n",
       "    scrolling=\"no\"\n",
       "    width=\"100%\"\n",
       "    height=\"545px\"\n",
       "    src=\"iframe_figures/figure_26.html\"\n",
       "    frameborder=\"0\"\n",
       "    allowfullscreen\n",
       "></iframe>\n"
      ]
     },
     "metadata": {},
     "output_type": "display_data"
    }
   ],
   "source": [
    "import pandas_datareader.data as web\n",
    "import pandas as pd\n",
    "from scipy import signal\n",
    "start = datetime.datetime(1960, 1, 1)\n",
    "end = datetime.datetime(2023, 1, 27)\n",
    "df = pd.DataFrame([])\n",
    "df['hours'] = web.DataReader(\"HOANBS\", \"fred\", start, end)\n",
    "df['pop'] = web.DataReader(\"POPTHM\", \"fred\", start, end).resample('QS').sum()\n",
    "y = np.log(df['hours']/df['pop'])\n",
    "\n",
    "f1, f2 = 0.06, 0.1\n",
    "numtaps = 252\n",
    "signal.firwin(numtaps, [f1, f2], pass_zero=False)\n",
    "y_filtered = signal.sosfilt(band, y)\n",
    "px.line(y=[y])"
   ]
  },
  {
   "cell_type": "code",
   "execution_count": 27,
   "id": "578c7e4f",
   "metadata": {},
   "outputs": [
    {
     "data": {
      "text/html": [
       "<iframe\n",
       "    scrolling=\"no\"\n",
       "    width=\"100%\"\n",
       "    height=\"545px\"\n",
       "    src=\"iframe_figures/figure_27.html\"\n",
       "    frameborder=\"0\"\n",
       "    allowfullscreen\n",
       "></iframe>\n"
      ]
     },
     "metadata": {},
     "output_type": "display_data"
    }
   ],
   "source": [
    "f, P = periodogram(y)\n",
    "px.line(y=P,x=f)"
   ]
  },
  {
   "cell_type": "code",
   "execution_count": null,
   "id": "f208760e",
   "metadata": {},
   "outputs": [],
   "source": []
  }
 ],
 "metadata": {
  "kernelspec": {
   "display_name": "Python 3 (ipykernel)",
   "language": "python",
   "name": "python3"
  },
  "language_info": {
   "codemirror_mode": {
    "name": "ipython",
    "version": 3
   },
   "file_extension": ".py",
   "mimetype": "text/x-python",
   "name": "python",
   "nbconvert_exporter": "python",
   "pygments_lexer": "ipython3",
   "version": "3.10.9"
  }
 },
 "nbformat": 4,
 "nbformat_minor": 5
}
