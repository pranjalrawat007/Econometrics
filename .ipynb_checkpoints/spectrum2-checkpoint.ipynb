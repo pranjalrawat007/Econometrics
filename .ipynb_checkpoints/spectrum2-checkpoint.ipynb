{
 "cells": [
  {
   "cell_type": "code",
   "execution_count": 1,
   "id": "d7356caf",
   "metadata": {},
   "outputs": [],
   "source": [
    "import pandas_datareader.data as web    \n",
    "import statsmodels.api as sm\n",
    "import statsmodels.formula.api as smf\n",
    "import pandas as pd\n",
    "import numpy as np\n",
    "import datetime\n",
    "import plotly.io as pio\n",
    "pio.renderers.default = 'iframe'\n",
    "import plotly.express as px"
   ]
  },
  {
   "cell_type": "markdown",
   "id": "06ea6bfc",
   "metadata": {},
   "source": [
    "### Transfer Functions"
   ]
  },
  {
   "cell_type": "markdown",
   "id": "877804e8",
   "metadata": {},
   "source": [
    "#### MA(2) filter introduces a spurious cycle in the series"
   ]
  },
  {
   "cell_type": "code",
   "execution_count": 2,
   "id": "50b1655c",
   "metadata": {},
   "outputs": [
    {
     "data": {
      "text/html": [
       "<iframe\n",
       "    scrolling=\"no\"\n",
       "    width=\"100%\"\n",
       "    height=\"545px\"\n",
       "    src=\"iframe_figures/figure_2.html\"\n",
       "    frameborder=\"0\"\n",
       "    allowfullscreen\n",
       "></iframe>\n"
      ]
     },
     "metadata": {},
     "output_type": "display_data"
    }
   ],
   "source": [
    "import numpy as np\n",
    "σ = 1\n",
    "N = 1000\n",
    "e = np.random.normal(0,σ,N)\n",
    "y = np.zeros(N)\n",
    "for t in range(2,N):\n",
    "    y[t] = e[t] - 2*e[t-2]\n",
    "px.line(y=[y,e], labels=['y','e'])"
   ]
  },
  {
   "cell_type": "code",
   "execution_count": 3,
   "id": "bba6bdac",
   "metadata": {},
   "outputs": [
    {
     "data": {
      "text/html": [
       "<iframe\n",
       "    scrolling=\"no\"\n",
       "    width=\"100%\"\n",
       "    height=\"545px\"\n",
       "    src=\"iframe_figures/figure_3.html\"\n",
       "    frameborder=\"0\"\n",
       "    allowfullscreen\n",
       "></iframe>\n"
      ]
     },
     "metadata": {},
     "output_type": "display_data"
    }
   ],
   "source": [
    "import plotly.express as px\n",
    "from scipy.signal import periodogram, welch\n",
    "f, Pe = welch(e,fs=1, scaling='density')\n",
    "f, Py = welch(y,fs=1, scaling='density')\n",
    "Pe_true = σ**2\n",
    "ω = np.linspace(0,np.pi,Py.shape[0])\n",
    "Py_true = (5-4*np.cos(2*ω))*Pe_true\n",
    "px.line(y=[Pe,Py,Pe_true*np.ones(Py.shape), Py_true*np.ones(Py.shape)],x=f)"
   ]
  },
  {
   "cell_type": "code",
   "execution_count": 4,
   "id": "102bdc7d",
   "metadata": {},
   "outputs": [
    {
     "data": {
      "text/html": [
       "<iframe\n",
       "    scrolling=\"no\"\n",
       "    width=\"100%\"\n",
       "    height=\"545px\"\n",
       "    src=\"iframe_figures/figure_4.html\"\n",
       "    frameborder=\"0\"\n",
       "    allowfullscreen\n",
       "></iframe>\n"
      ]
     },
     "metadata": {},
     "output_type": "display_data"
    }
   ],
   "source": [
    "import numpy as np\n",
    "σ = 1\n",
    "e = np.random.normal(0,σ,N)\n",
    "m = 3\n",
    "y = np.zeros(N)\n",
    "for t in range(2,N):\n",
    "    y[t] = 0\n",
    "    for i in range(m):\n",
    "        y[t] += e[t-i]\n",
    "px.line(y=[y,e], labels=['y','e'])"
   ]
  },
  {
   "cell_type": "markdown",
   "id": "6f38c04e",
   "metadata": {},
   "source": [
    "#### Equal weighted Moving average is a low-pass filter (kills high frequency movements)"
   ]
  },
  {
   "cell_type": "code",
   "execution_count": 5,
   "id": "1c046f5d",
   "metadata": {},
   "outputs": [
    {
     "data": {
      "text/html": [
       "<iframe\n",
       "    scrolling=\"no\"\n",
       "    width=\"100%\"\n",
       "    height=\"545px\"\n",
       "    src=\"iframe_figures/figure_5.html\"\n",
       "    frameborder=\"0\"\n",
       "    allowfullscreen\n",
       "></iframe>\n"
      ]
     },
     "metadata": {},
     "output_type": "display_data"
    }
   ],
   "source": [
    "import plotly.express as px\n",
    "from scipy.signal import periodogram, welch\n",
    "f, Pe = welch(e,fs=1, scaling='density')\n",
    "f, Py = welch(y,fs=1, scaling='density')\n",
    "Pe_true = σ**2\n",
    "ω = np.linspace(0,np.pi,Py.shape[0])\n",
    "transf = np.abs(np.sum(np.array([np.exp(1j*i*ω) for i in range(m)]),axis=0))**2\n",
    "Py_true = transf*Pe_true\n",
    "px.line(y=[Pe,Py,Pe_true*np.ones(Py.shape), Py_true*np.ones(Py.shape)],x=f)"
   ]
  },
  {
   "cell_type": "code",
   "execution_count": null,
   "id": "376ca7a5",
   "metadata": {},
   "outputs": [],
   "source": []
  },
  {
   "cell_type": "code",
   "execution_count": null,
   "id": "3fa28b1a",
   "metadata": {},
   "outputs": [],
   "source": []
  }
 ],
 "metadata": {
  "kernelspec": {
   "display_name": "Python 3 (ipykernel)",
   "language": "python",
   "name": "python3"
  },
  "language_info": {
   "codemirror_mode": {
    "name": "ipython",
    "version": 3
   },
   "file_extension": ".py",
   "mimetype": "text/x-python",
   "name": "python",
   "nbconvert_exporter": "python",
   "pygments_lexer": "ipython3",
   "version": "3.10.9"
  }
 },
 "nbformat": 4,
 "nbformat_minor": 5
}
