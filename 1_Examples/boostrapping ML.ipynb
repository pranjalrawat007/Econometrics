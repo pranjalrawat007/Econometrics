{
 "cells": [
  {
   "cell_type": "code",
   "execution_count": 716,
   "metadata": {},
   "outputs": [],
   "source": [
    "import pandas as pd\n",
    "import numpy as np\n",
    "df = pd.read_csv('concrete.csv')\n",
    "#df = df[(df.csMPa < df.csMPa.quantile(.95))&(df.csMPa > df.csMPa.quantile(.05))]\n",
    "X = df.iloc[:, 0:8]\n",
    "y = df.iloc[:, 8]\n",
    "from sklearn.model_selection import train_test_split\n",
    "X_train, X_holdout, y_train, y_holdout = train_test_split(X, y, test_size = 0.2, random_state = 33)\n",
    "X_train, X_var, y_train, y_var = train_test_split(X_train, y_train, test_size = 0.3, random_state = 33)\n",
    "X_train, X_test, y_train, y_test = train_test_split(X_train, y_train, test_size = 0.3, random_state = 33)"
   ]
  },
  {
   "cell_type": "code",
   "execution_count": 717,
   "metadata": {},
   "outputs": [
    {
     "data": {
      "text/plain": [
       "((403, 8), (248, 8), (173, 8), (206, 8))"
      ]
     },
     "execution_count": 717,
     "metadata": {},
     "output_type": "execute_result"
    }
   ],
   "source": [
    "X_train.shape, X_var.shape, X_test.shape, X_holdout.shape"
   ]
  },
  {
   "cell_type": "code",
   "execution_count": 838,
   "metadata": {},
   "outputs": [
    {
     "name": "stdout",
     "output_type": "stream",
     "text": [
      "[0.63883589 0.63989719 0.57149132 0.57322161 0.6013372 ]\n"
     ]
    },
    {
     "data": {
      "text/plain": [
       "(0.6261013704002498, 0.6037527758374912, 0.5776125508994181)"
      ]
     },
     "execution_count": 838,
     "metadata": {},
     "output_type": "execute_result"
    }
   ],
   "source": [
    "from sklearn.neural_network import MLPRegressor\n",
    "from sklearn.ensemble import GradientBoostingRegressor\n",
    "from sklearn.linear_model import LinearRegression, Lasso\n",
    "from sklearn.model_selection import cross_val_score\n",
    "from sklearn import metrics\n",
    "\n",
    "#model_mean = MLPRegressor().fit(X_train, y_train)\n",
    "model_mean = GradientBoostingRegressor(n_estimators = 200, subsample = 0.5).fit(X_train, y_train)\n",
    "model_mean = LinearRegression().fit(X_train, y_train)\n",
    "scores = cross_val_score(model_mean, X_train, y_train, cv=5, scoring='r2')\n",
    "print(scores)\n",
    "model_mean.score(X_train, y_train), model_mean.score(X_test, y_test), model_mean.score(X_var, y_var)"
   ]
  },
  {
   "cell_type": "code",
   "execution_count": 839,
   "metadata": {},
   "outputs": [
    {
     "data": {
      "text/plain": [
       "array([0.63883589, 0.63989719, 0.57149132, 0.57322161, 0.6013372 ])"
      ]
     },
     "execution_count": 839,
     "metadata": {},
     "output_type": "execute_result"
    }
   ],
   "source": [
    "scores"
   ]
  },
  {
   "cell_type": "code",
   "execution_count": 840,
   "metadata": {},
   "outputs": [
    {
     "data": {
      "image/png": "[encoded data removed]",
      "text/plain": [
       "<Figure size 432x288 with 1 Axes>"
      ]
     },
     "metadata": {
      "needs_background": "light"
     },
     "output_type": "display_data"
    }
   ],
   "source": [
    "ypred = model_mean.predict(X_test)\n",
    "u_var = y_var - model_mean.predict(X_var)\n",
    "u_test = y_test - ypred\n",
    "import matplotlib.pyplot as plt\n",
    "plt.hist(ypred, bins = 100)\n",
    "plt.show()"
   ]
  },
  {
   "cell_type": "code",
   "execution_count": 841,
   "metadata": {},
   "outputs": [
    {
     "data": {
      "text/plain": [
       "(0.5312967763391595, -0.640216474305711)"
      ]
     },
     "execution_count": 841,
     "metadata": {},
     "output_type": "execute_result"
    }
   ],
   "source": [
    "np.mean(u_test), np.mean(u_var)"
   ]
  },
  {
   "cell_type": "code",
   "execution_count": 842,
   "metadata": {},
   "outputs": [
    {
     "data": {
      "image/png": "[encoded data removed]",
      "text/plain": [
       "<Figure size 432x288 with 1 Axes>"
      ]
     },
     "metadata": {
      "needs_background": "light"
     },
     "output_type": "display_data"
    }
   ],
   "source": [
    "import matplotlib.pyplot as plt\n",
    "plt.hist(u_var**2, bins = 100)\n",
    "plt.show()"
   ]
  },
  {
   "cell_type": "code",
   "execution_count": 843,
   "metadata": {},
   "outputs": [
    {
     "data": {
      "image/png": "[encoded data removed]",
      "text/plain": [
       "<Figure size 432x288 with 1 Axes>"
      ]
     },
     "metadata": {
      "needs_background": "light"
     },
     "output_type": "display_data"
    }
   ],
   "source": [
    "import matplotlib.pyplot as plt\n",
    "plt.hist(u_test**2, bins = 100)\n",
    "plt.show()"
   ]
  },
  {
   "cell_type": "code",
   "execution_count": 867,
   "metadata": {},
   "outputs": [],
   "source": [
    "import matplotlib.pyplot as plt\n",
    "N = y_test.shape\n",
    "J = 10\n",
    "u2varpred = np.power(u_var,2)/N*J\n",
    "u2testpred = np.power(u_test,2)/N*J"
   ]
  },
  {
   "cell_type": "code",
   "execution_count": 868,
   "metadata": {},
   "outputs": [
    {
     "name": "stdout",
     "output_type": "stream",
     "text": [
      "0.29207604104707147\n"
     ]
    },
    {
     "data": {
      "text/plain": [
       "(0.7195761969746022, 0.32729362544258644)"
      ]
     },
     "execution_count": 868,
     "metadata": {},
     "output_type": "execute_result"
    }
   ],
   "source": [
    "#model_variance = MLPRegressor(500, random_state=33, max_iter=2000, alpha = 0).fit(X_var, u2varpred)\n",
    "model_variance = GradientBoostingRegressor(n_estimators = 10, random_state=0, max_depth = 6).fit(X_var, u2varpred)\n",
    "#model_variance = LinearRegression().fit(X_var, u2varpred)\n",
    "scores = cross_val_score(model_variance, X_var, u2varpred, cv=5, scoring='r2')\n",
    "print(np.mean(scores))\n",
    "model_variance.score(X_var, u2varpred), model_variance.score(X_test, u2testpred)"
   ]
  },
  {
   "cell_type": "code",
   "execution_count": 869,
   "metadata": {},
   "outputs": [],
   "source": [
    "ypred = model_mean.predict(X_holdout)\n",
    "vpred = model_variance.predict(X_holdout)"
   ]
  },
  {
   "cell_type": "code",
   "execution_count": 870,
   "metadata": {},
   "outputs": [],
   "source": [
    "ypred_high = np.maximum(ypred + 2*vpred, ypred - 2*vpred)\n",
    "ypred_low = np.minimum(ypred - 2*vpred, ypred - 2*vpred)\n",
    "df2 = pd.DataFrame(np.c_[ypred_high, ypred, ypred_low, y_holdout], columns = ['upper', 'mean', 'lower', 'actual'])\n",
    "df2['hit'] = np.where((df2['actual'] >= df2['lower']) & (df2['actual'] <= df2['upper']), 1, 0)\n",
    "df2['spread']  = df2.upper - df2.lower"
   ]
  },
  {
   "cell_type": "code",
   "execution_count": 871,
   "metadata": {},
   "outputs": [
    {
     "data": {
      "text/plain": [
       "0.7475728155339806"
      ]
     },
     "execution_count": 871,
     "metadata": {},
     "output_type": "execute_result"
    }
   ],
   "source": [
    "df2.hit.mean()"
   ]
  },
  {
   "cell_type": "code",
   "execution_count": 872,
   "metadata": {},
   "outputs": [
    {
     "data": {
      "text/html": [
       "<div>\n",
       "<style scoped>\n",
       "    .dataframe tbody tr th:only-of-type {\n",
       "        vertical-align: middle;\n",
       "    }\n",
       "\n",
       "    .dataframe tbody tr th {\n",
       "        vertical-align: top;\n",
       "    }\n",
       "\n",
       "    .dataframe thead th {\n",
       "        text-align: right;\n",
       "    }\n",
       "</style>\n",
       "<table border=\"1\" class=\"dataframe\">\n",
       "  <thead>\n",
       "    <tr style=\"text-align: right;\">\n",
       "      <th></th>\n",
       "      <th>upper</th>\n",
       "      <th>mean</th>\n",
       "      <th>lower</th>\n",
       "      <th>actual</th>\n",
       "      <th>hit</th>\n",
       "      <th>spread</th>\n",
       "    </tr>\n",
       "  </thead>\n",
       "  <tbody>\n",
       "    <tr>\n",
       "      <th>0</th>\n",
       "      <td>38.545359</td>\n",
       "      <td>30.965118</td>\n",
       "      <td>23.384877</td>\n",
       "      <td>26.23</td>\n",
       "      <td>1</td>\n",
       "      <td>15.160482</td>\n",
       "    </tr>\n",
       "    <tr>\n",
       "      <th>1</th>\n",
       "      <td>33.632928</td>\n",
       "      <td>22.680957</td>\n",
       "      <td>11.728987</td>\n",
       "      <td>25.18</td>\n",
       "      <td>1</td>\n",
       "      <td>21.903941</td>\n",
       "    </tr>\n",
       "    <tr>\n",
       "      <th>2</th>\n",
       "      <td>30.601713</td>\n",
       "      <td>23.728209</td>\n",
       "      <td>16.854705</td>\n",
       "      <td>24.54</td>\n",
       "      <td>1</td>\n",
       "      <td>13.747008</td>\n",
       "    </tr>\n",
       "    <tr>\n",
       "      <th>3</th>\n",
       "      <td>47.321924</td>\n",
       "      <td>38.337233</td>\n",
       "      <td>29.352543</td>\n",
       "      <td>46.64</td>\n",
       "      <td>1</td>\n",
       "      <td>17.969381</td>\n",
       "    </tr>\n",
       "    <tr>\n",
       "      <th>4</th>\n",
       "      <td>59.755067</td>\n",
       "      <td>50.746690</td>\n",
       "      <td>41.738313</td>\n",
       "      <td>55.55</td>\n",
       "      <td>1</td>\n",
       "      <td>18.016754</td>\n",
       "    </tr>\n",
       "    <tr>\n",
       "      <th>...</th>\n",
       "      <td>...</td>\n",
       "      <td>...</td>\n",
       "      <td>...</td>\n",
       "      <td>...</td>\n",
       "      <td>...</td>\n",
       "      <td>...</td>\n",
       "    </tr>\n",
       "    <tr>\n",
       "      <th>201</th>\n",
       "      <td>115.720703</td>\n",
       "      <td>68.897698</td>\n",
       "      <td>22.074693</td>\n",
       "      <td>42.13</td>\n",
       "      <td>1</td>\n",
       "      <td>93.646010</td>\n",
       "    </tr>\n",
       "    <tr>\n",
       "      <th>202</th>\n",
       "      <td>77.324898</td>\n",
       "      <td>66.378630</td>\n",
       "      <td>55.432361</td>\n",
       "      <td>79.40</td>\n",
       "      <td>0</td>\n",
       "      <td>21.892537</td>\n",
       "    </tr>\n",
       "    <tr>\n",
       "      <th>203</th>\n",
       "      <td>39.254660</td>\n",
       "      <td>30.916285</td>\n",
       "      <td>22.577910</td>\n",
       "      <td>29.87</td>\n",
       "      <td>1</td>\n",
       "      <td>16.676750</td>\n",
       "    </tr>\n",
       "    <tr>\n",
       "      <th>204</th>\n",
       "      <td>36.456408</td>\n",
       "      <td>27.191121</td>\n",
       "      <td>17.925833</td>\n",
       "      <td>19.52</td>\n",
       "      <td>1</td>\n",
       "      <td>18.530576</td>\n",
       "    </tr>\n",
       "    <tr>\n",
       "      <th>205</th>\n",
       "      <td>27.901848</td>\n",
       "      <td>21.128722</td>\n",
       "      <td>14.355595</td>\n",
       "      <td>19.99</td>\n",
       "      <td>1</td>\n",
       "      <td>13.546253</td>\n",
       "    </tr>\n",
       "  </tbody>\n",
       "</table>\n",
       "<p>206 rows × 6 columns</p>\n",
       "</div>"
      ],
      "text/plain": [
       "          upper       mean      lower  actual  hit     spread\n",
       "0     38.545359  30.965118  23.384877   26.23    1  15.160482\n",
       "1     33.632928  22.680957  11.728987   25.18    1  21.903941\n",
       "2     30.601713  23.728209  16.854705   24.54    1  13.747008\n",
       "3     47.321924  38.337233  29.352543   46.64    1  17.969381\n",
       "4     59.755067  50.746690  41.738313   55.55    1  18.016754\n",
       "..          ...        ...        ...     ...  ...        ...\n",
       "201  115.720703  68.897698  22.074693   42.13    1  93.646010\n",
       "202   77.324898  66.378630  55.432361   79.40    0  21.892537\n",
       "203   39.254660  30.916285  22.577910   29.87    1  16.676750\n",
       "204   36.456408  27.191121  17.925833   19.52    1  18.530576\n",
       "205   27.901848  21.128722  14.355595   19.99    1  13.546253\n",
       "\n",
       "[206 rows x 6 columns]"
      ]
     },
     "execution_count": 872,
     "metadata": {},
     "output_type": "execute_result"
    }
   ],
   "source": [
    "df2"
   ]
  },
  {
   "cell_type": "code",
   "execution_count": 874,
   "metadata": {},
   "outputs": [
    {
     "data": {
      "text/plain": [
       "0.7373737373737373"
      ]
     },
     "execution_count": 874,
     "metadata": {},
     "output_type": "execute_result"
    }
   ],
   "source": [
    "df2[df2.spread < 80].hit.mean()"
   ]
  },
  {
   "cell_type": "code",
   "execution_count": 875,
   "metadata": {},
   "outputs": [
    {
     "data": {
      "image/png": "[encoded data removed]",
      "text/plain": [
       "<Figure size 432x288 with 1 Axes>"
      ]
     },
     "metadata": {
      "needs_background": "light"
     },
     "output_type": "display_data"
    }
   ],
   "source": [
    "df2.spread.hist(bins = 100)\n",
    "plt.show()"
   ]
  },
  {
   "cell_type": "code",
   "execution_count": null,
   "metadata": {},
   "outputs": [],
   "source": []
  }
 ],
 "metadata": {
  "kernelspec": {
   "display_name": "Python 3",
   "language": "python",
   "name": "python3"
  },
  "language_info": {
   "codemirror_mode": {
    "name": "ipython",
    "version": 3
   },
   "file_extension": ".py",
   "mimetype": "text/x-python",
   "name": "python",
   "nbconvert_exporter": "python",
   "pygments_lexer": "ipython3",
   "version": "3.8.8"
  }
 },
 "nbformat": 4,
 "nbformat_minor": 4
}
